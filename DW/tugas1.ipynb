{
 "cells": [
  {
   "cell_type": "code",
   "execution_count": null,
   "metadata": {},
   "outputs": [
    {
     "name": "stdout",
     "output_type": "stream",
     "text": [
      "   ID_Barang Nama_Barang  Total_Penjualan\n",
      "0          1    Barang A            10000\n",
      "1          2    Barang B            22500\n",
      "2          3    Barang C             4900\n",
      "3          4    Barang D            40000\n",
      "4          5    Barang E             2500\n"
     ]
    }
   ],
   "source": [
    "# SK1\n",
    "# santo\n",
    "import pandas as pd \n",
    "\n",
    "# Extract: Santo Mengambil data sumber dari dictionary dan menyimpannya ke dalam DataFrame.\n",
    "data = {\n",
    "    'ID_Barang': [1, 2, 3, 4, 5],\n",
    "    'Nama_Barang': ['Barang A', 'Barang B', 'Barang C', 'Barang D', 'Barang E'],\n",
    "    'Jumlah_Terjual': [10, 15, 7, 20, 5],\n",
    "    'Harga_Per_Unit': [1000, 1500, 700, 2000, 500]\n",
    "}\n",
    "df = pd.DataFrame(data)\n",
    "\n",
    "# Transform: Santo Menghitung total penjualan dengan mengalikan jumlah terjual dan harga per unit.\n",
    "df['Total_Penjualan'] = df['Jumlah_Terjual'] * df['Harga_Per_Unit']\n",
    "\n",
    "# Load: Santo Menampilkan hasil akhir hanya dengan kolom ID Barang, Nama Barang, dan Total Penjualan.\n",
    "df_hasil = df[['ID_Barang', 'Nama_Barang', 'Total_Penjualan']]\n",
    "print(df_hasil)\n"
   ]
  },
  {
   "cell_type": "code",
   "execution_count": null,
   "metadata": {},
   "outputs": [
    {
     "name": "stdout",
     "output_type": "stream",
     "text": [
      "Dataset Asli:\n",
      "   ID_Barang Nama_Barang  Jumlah_Terjual  Harga_Per_Unit\n",
      "0          1    Barang A            10.0          1000.0\n",
      "1          2    Barang B             NaN          1500.0\n",
      "2          3    Barang C             7.0             NaN\n",
      "3          4    Barang D            20.0          2000.0\n",
      "4          5    Barang E             5.0           500.0\n",
      "\n",
      "Dataset Hasil:\n",
      "   ID_Barang Nama_Barang  Total_Penjualan\n",
      "0          1    Barang A          10000.0\n",
      "1          2    Barang B          15750.0\n",
      "2          3    Barang C           8750.0\n",
      "3          4    Barang D          40000.0\n",
      "4          5    Barang E           2500.0\n"
     ]
    }
   ],
   "source": [
    "# SK2\n",
    "import pandas as pd\n",
    "import numpy as np\n",
    "\n",
    "# Extract: Data sumber dengan nilai kosong\n",
    "data = {\n",
    " 'ID_Barang': [1, 2, 3, 4, 5],\n",
    " 'Nama_Barang': ['Barang A', 'Barang B', 'Barang C', 'Barang D', 'Barang E'],\n",
    " 'Jumlah_Terjual': [10, np.nan, 7, 20, 5],\n",
    " 'Harga_Per_Unit': [1000, 1500, np.nan, 2000, 500]\n",
    "}\n",
    "df = pd.DataFrame(data)\n",
    "\n",
    "# Menampilkan dataset asli\n",
    "print(\"Dataset Asli:\")\n",
    "print(df)\n",
    "\n",
    "# Transforms: Mengisi nilai kosong dengan nilai rata-rata\n",
    "df['Jumlah_Terjual'] = df['Jumlah_Terjual'].fillna(df['Jumlah_Terjual'].mean())\n",
    "df['Harga_Per_Unit'] = df['Harga_Per_Unit'].fillna(df['Harga_Per_Unit'].mean())\n",
    "\n",
    "# Menghitung total penjualan\n",
    "df['Total_Penjualan'] = df['Jumlah_Terjual'] * df['Harga_Per_Unit']\n",
    "\n",
    "# Memuat data ke DataFrame baru (Load)\n",
    "df_hasil = df[['ID_Barang', 'Nama_Barang', 'Total_Penjualan']]\n",
    "\n",
    "# Menampilkan dataset hasil\n",
    "print(\"\\nDataset Hasil:\")\n",
    "print(df_hasil) \n"
   ]
  },
  {
   "cell_type": "code",
   "execution_count": 1,
   "metadata": {},
   "outputs": [
    {
     "name": "stdout",
     "output_type": "stream",
     "text": [
      "Dataset Asli:\n",
      "   ID_Barang Nama_Barang  Jumlah_Terjual  Harga_Per_Unit\n",
      "0          1    Barang A            10.0          1000.0\n",
      "1          2    Barang B             NaN          1500.0\n",
      "2          3    Barang C             7.0             NaN\n",
      "3          4    Barang D            20.0          2000.0\n",
      "4          5    Barang E             5.0           500.0\n",
      "   ID_Barang Nama_Barang  Total_Penjualan\n",
      "0          1    Barang A          10000.0\n",
      "3          4    Barang D          40000.0\n",
      "4          5    Barang E           2500.0\n"
     ]
    }
   ],
   "source": [
    "# SK3\n",
    "import pandas as pd \n",
    "import numpy as np \n",
    "\n",
    "# Extract: Santo Mengambil data dari dictionary dengan beberapa nilai kosong.\n",
    "data = {\n",
    "    'ID_Barang': [1, 2, 3, 4, 5],\n",
    "    'Nama_Barang': ['Barang A', 'Barang B', 'Barang C', 'Barang D', 'Barang E'],\n",
    "    'Jumlah_Terjual': [10, np.nan, 7, 20, 5],\n",
    "    'Harga_Per_Unit': [1000, 1500, np.nan, 2000, 500]\n",
    "}\n",
    "df = pd.DataFrame(data)\n",
    "\n",
    "# Menampilkan dataset asli\n",
    "print(\"Dataset Asli:\")\n",
    "print(df)\n",
    "\n",
    "# Transform: Santo Menghapus baris yang memiliki nilai kosong untuk memastikan data yang bersih.\n",
    "df.dropna(inplace=True)\n",
    "\n",
    "# Santo Menghitung total penjualan setelah data difilter.\n",
    "df['Total_Penjualan'] = df['Jumlah_Terjual'] * df['Harga_Per_Unit']\n",
    "\n",
    "# Load: Santo Menampilkan hasil akhir dengan data yang sudah bersih dari nilai kosong.\n",
    "df_hasil = df[['ID_Barang', 'Nama_Barang', 'Total_Penjualan']]\n",
    "print(df_hasil)\n"
   ]
  },
  {
   "cell_type": "code",
   "execution_count": 2,
   "metadata": {},
   "outputs": [
    {
     "name": "stdout",
     "output_type": "stream",
     "text": [
      "Dataset Asli:\n",
      "   ID_Barang Nama_Barang  Jumlah_Terjual Harga_Per_Unit\n",
      "0          1    Barang A              10       Rp. 1000\n",
      "1          2    Barang B              15       Rp. 1500\n",
      "2          3    Barang C               7        Rp. 700\n",
      "3          4    Barang D              20       Rp. 2000\n",
      "4          5    Barang E               5        Rp. 500\n",
      "   ID_Barang Nama_Barang  Total_Penjualan\n",
      "0          1    Barang A          10000.0\n",
      "1          2    Barang B          22500.0\n",
      "2          3    Barang C           4900.0\n",
      "3          4    Barang D          40000.0\n",
      "4          5    Barang E           2500.0\n"
     ]
    }
   ],
   "source": [
    "# SK4\n",
    "import pandas as pd \n",
    "\n",
    "# Extract: Santo Mengambil data dari dictionary dengan harga yang diawali dengan 'Rp.'.\n",
    "data = {\n",
    "    'ID_Barang': [1, 2, 3, 4, 5],\n",
    "    'Nama_Barang': ['Barang A', 'Barang B', 'Barang C', 'Barang D', 'Barang E'],\n",
    "    'Jumlah_Terjual': [10, 15, 7, 20, 5],\n",
    "    'Harga_Per_Unit': ['Rp. 1000', 'Rp. 1500', 'Rp. 700', 'Rp. 2000', 'Rp. 500']\n",
    "}\n",
    "df = pd.DataFrame(data)\n",
    "\n",
    "# Menampilkan dataset asli\n",
    "print(\"Dataset Asli:\")\n",
    "print(df)\n",
    "\n",
    "# Transform: Santo Menghilangkan 'Rp. ' di kolom harga dan mengubahnya menjadi tipe data numerik.\n",
    "df['Harga_Per_Unit'] = df['Harga_Per_Unit'].str.replace('Rp. ', '', regex=False).astype(float)\n",
    "\n",
    "# Menghitung total penjualan dengan harga yang sudah dalam format angka.\n",
    "df['Total_Penjualan'] = df['Jumlah_Terjual'] * df['Harga_Per_Unit']\n",
    "\n",
    "# Load: Menampilkan hasil akhir dengan harga yang sudah bersih dari format string.\n",
    "df_hasil = df[['ID_Barang', 'Nama_Barang', 'Total_Penjualan']]\n",
    "print(df_hasil)\n"
   ]
  },
  {
   "cell_type": "code",
   "execution_count": 3,
   "metadata": {},
   "outputs": [
    {
     "name": "stdout",
     "output_type": "stream",
     "text": [
      "Dataset Asli:\n",
      "   ID_Barang Nama_Barang  Jumlah_Terjual Harga_Per_Unit\n",
      "0          1    Barang A              10       Rp. 1000\n",
      "1          2    Barang B              15       Rp. 1500\n",
      "2          3    Barang C               7        Rp. 700\n",
      "3          4    Barang D              20       Rp. 2000\n",
      "4          5    Barang E               5        Rp. 500\n",
      "5          1    Barang A               5       Rp. 1000\n",
      "6          2    Barang B              10       Rp. 1500\n",
      "  Nama_Barang  Jumlah_Terjual  Total_Penjualan\n",
      "0    Barang A              15          15000.0\n",
      "1    Barang B              25          37500.0\n",
      "2    Barang C               7           4900.0\n",
      "3    Barang D              20          40000.0\n",
      "4    Barang E               5           2500.0\n"
     ]
    }
   ],
   "source": [
    "# SK5\n",
    "import pandas as pd \n",
    "\n",
    "# Extract: Santo Mengambil data dari dictionary dengan beberapa barang yang muncul lebih dari sekali.\n",
    "data = {\n",
    "    'ID_Barang': [1, 2, 3, 4, 5, 1, 2],\n",
    "    'Nama_Barang': ['Barang A', 'Barang B', 'Barang C', 'Barang D', 'Barang E', 'Barang A', 'Barang B'],\n",
    "    'Jumlah_Terjual': [10, 15, 7, 20, 5, 5, 10],\n",
    "    'Harga_Per_Unit': ['Rp. 1000', 'Rp. 1500', 'Rp. 700', 'Rp. 2000', 'Rp. 500', 'Rp. 1000', 'Rp. 1500']\n",
    "}\n",
    "df = pd.DataFrame(data)\n",
    "\n",
    "# Menampilkan dataset asli\n",
    "print(\"Dataset Asli:\")\n",
    "print(df)\n",
    "\n",
    "# Transform: Santo Menghilangkan 'Rp.' di harga dan mengubahnya ke tipe numerik.\n",
    "df['Harga_Per_Unit'] = df['Harga_Per_Unit'].str.replace('Rp. ', '', regex=False).astype(float)\n",
    "\n",
    "# Menghitung total penjualan untuk setiap baris sebelum penggabungan.\n",
    "df['Total_Penjualan'] = df['Jumlah_Terjual'] * df['Harga_Per_Unit']\n",
    "\n",
    "# Mengelompokkan data berdasarkan Nama_Barang dan menjumlahkan total penjualan.\n",
    "df_grouped = df.groupby('Nama_Barang').agg({'Jumlah_Terjual': 'sum', 'Total_Penjualan': 'sum'}).reset_index()\n",
    "\n",
    "# Load: Menampilkan hasil akhir setelah penggabungan.\n",
    "print(df_grouped)\n"
   ]
  }
 ],
 "metadata": {
  "kernelspec": {
   "display_name": "DIP",
   "language": "python",
   "name": "python3"
  },
  "language_info": {
   "codemirror_mode": {
    "name": "ipython",
    "version": 3
   },
   "file_extension": ".py",
   "mimetype": "text/x-python",
   "name": "python",
   "nbconvert_exporter": "python",
   "pygments_lexer": "ipython3",
   "version": "3.10.13"
  }
 },
 "nbformat": 4,
 "nbformat_minor": 2
}
