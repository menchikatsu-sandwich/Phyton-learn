{
 "cells": [
  {
   "cell_type": "code",
   "execution_count": 5,
   "id": "15803600",
   "metadata": {},
   "outputs": [
    {
     "name": "stdout",
     "output_type": "stream",
     "text": [
      "Cleaning transaksi selesai!\n"
     ]
    }
   ],
   "source": [
    "# clean transaksi\n",
    "import pandas as pd\n",
    "\n",
    "df = pd.read_csv('out_data_transaksi_koperasi.csv', sep=';')\n",
    "df = df.drop_duplicates()\n",
    "df['Tanggal Transaksi'] = pd.to_datetime(df['Tanggal Transaksi'])\n",
    "df['Jumlah Transaksi (Rp)'] = pd.to_numeric(df['Jumlah Transaksi (Rp)'], errors='coerce').fillna(0).astype(int)\n",
    "df['Nomor Telepon Pelanggan'] = df['Nomor Telepon Pelanggan'].astype(str).str.replace(r'\\D', '', regex=True)\n",
    "df['Nomor Telepon Pelanggan'] = df['Nomor Telepon Pelanggan'].apply(lambda x: x if x.startswith('0') else '0' + x)\n",
    "\n",
    "df.to_csv('cleaned_transaksi.csv', sep=';', index=False)\n",
    "print(\"Cleaning transaksi selesai!\")"
   ]
  },
  {
   "cell_type": "code",
   "execution_count": 6,
   "id": "e4778fd2",
   "metadata": {},
   "outputs": [
    {
     "name": "stdout",
     "output_type": "stream",
     "text": [
      "Cleaning gaji selesai!\n"
     ]
    }
   ],
   "source": [
    "# clean gaji\n",
    "import pandas as pd\n",
    "\n",
    "df = pd.read_csv('out_data_gaji_12bulan.csv', sep=';')\n",
    "df = df.drop_duplicates()\n",
    "df['Gaji (IDR)'] = pd.to_numeric(df['Gaji (IDR)'], errors='coerce').fillna(0).astype(int)\n",
    "df['Nomor Telepon'] = df['Nomor Telepon'].astype(str).str.replace(r'\\D', '', regex=True)\n",
    "df['Nomor Telepon'] = df['Nomor Telepon'].apply(lambda x: x if x.startswith('0') else '0' + x)\n",
    "\n",
    "df.to_csv('cleaned_gaji.csv', sep=';', index=False)\n",
    "print(\"Cleaning gaji selesai!\")"
   ]
  },
  {
   "cell_type": "code",
   "execution_count": 7,
   "id": "624a211f",
   "metadata": {},
   "outputs": [
    {
     "name": "stdout",
     "output_type": "stream",
     "text": [
      "Cleaning karyawan selesai!\n"
     ]
    }
   ],
   "source": [
    "# clean karyawan\n",
    "import pandas as pd\n",
    "\n",
    "df = pd.read_csv('out_data_karyawan.csv', sep=';')\n",
    "df = df.drop_duplicates()\n",
    "df['Nomor Telepon'] = df['Nomor Telepon'].astype(str).str.replace(r'\\D', '', regex=True)\n",
    "df['Nomor Telepon'] = df['Nomor Telepon'].apply(lambda x: x if x.startswith('0') else '0' + x)\n",
    "df['Alamat Email'] = df['Alamat Email'].str.lower()\n",
    "\n",
    "df.to_csv('cleaned_karyawan.csv', sep=';', index=False)\n",
    "print(\"Cleaning karyawan selesai!\")"
   ]
  },
  {
   "cell_type": "code",
   "execution_count": 8,
   "id": "02782af6",
   "metadata": {},
   "outputs": [
    {
     "name": "stdout",
     "output_type": "stream",
     "text": [
      "Cleaning pelanggan selesai!\n"
     ]
    }
   ],
   "source": [
    "# clean pelanggan\n",
    "import pandas as pd\n",
    "\n",
    "df = pd.read_csv('out_data_pelanggan_jumlah_tanggungan.csv', sep=';')\n",
    "df = df.drop_duplicates()\n",
    "df['Nomor Telepon'] = df['Nomor Telepon'].astype(str).str.replace(r'\\D', '', regex=True)\n",
    "df['Nomor Telepon'] = df['Nomor Telepon'].apply(lambda x: x if x.startswith('0') else '0' + x)\n",
    "df['Alamat Email'] = df['Alamat Email'].str.lower()\n",
    "df['Jumlah Tanggungan'] = pd.to_numeric(df['Jumlah Tanggungan'], errors='coerce').fillna(0).astype(int)\n",
    "\n",
    "df.to_csv('cleaned_pelanggan.csv', sep=';', index=False)\n",
    "print(\"Cleaning pelanggan selesai!\")"
   ]
  }
 ],
 "metadata": {
  "kernelspec": {
   "display_name": "DIP",
   "language": "python",
   "name": "python3"
  },
  "language_info": {
   "codemirror_mode": {
    "name": "ipython",
    "version": 3
   },
   "file_extension": ".py",
   "mimetype": "text/x-python",
   "name": "python",
   "nbconvert_exporter": "python",
   "pygments_lexer": "ipython3",
   "version": "3.10.13"
  }
 },
 "nbformat": 4,
 "nbformat_minor": 5
}
