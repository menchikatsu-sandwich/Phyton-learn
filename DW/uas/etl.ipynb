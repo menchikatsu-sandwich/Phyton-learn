{
 "cells": [
  {
   "cell_type": "code",
   "execution_count": 1,
   "id": "89102b8c",
   "metadata": {},
   "outputs": [
    {
     "name": "stdout",
     "output_type": "stream",
     "text": [
      "ETL to database completed.\n"
     ]
    }
   ],
   "source": [
    "import pandas as pd\n",
    "import sqlite3\n",
    "\n",
    "df = pd.read_csv(\"cleansed_sales_1500.csv\")\n",
    "conn = sqlite3.connect(\"sales1500.db\")\n",
    "df.to_sql(\"sales\", conn, if_exists=\"replace\", index=False)\n",
    "conn.commit()\n",
    "conn.close()\n",
    "print(\"ETL to database completed.\")\n"
   ]
  }
 ],
 "metadata": {
  "kernelspec": {
   "display_name": "DIP",
   "language": "python",
   "name": "python3"
  },
  "language_info": {
   "codemirror_mode": {
    "name": "ipython",
    "version": 3
   },
   "file_extension": ".py",
   "mimetype": "text/x-python",
   "name": "python",
   "nbconvert_exporter": "python",
   "pygments_lexer": "ipython3",
   "version": "3.10.13"
  }
 },
 "nbformat": 4,
 "nbformat_minor": 5
}
