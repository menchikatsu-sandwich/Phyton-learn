{
 "cells": [
  {
   "cell_type": "code",
   "execution_count": null,
   "id": "c6ada177",
   "metadata": {},
   "outputs": [
    {
     "name": "stdout",
     "output_type": "stream",
     "text": [
      "File hasil cleaning disimpan sebagai 'cleaned_output.csv'\n"
     ]
    }
   ],
   "source": [
    "import pandas as pd\n",
    "\n",
    "# 1. Baca file CSV mentah\n",
    "input_file = \"item_tugas3.csv\"\n",
    "df = pd.read_csv(input_file, delimiter=\";\", skip_blank_lines=True)\n",
    "\n",
    "# 2. Bersihkan nama kolom dari spasi\n",
    "df.columns = [col.strip() for col in df.columns]\n",
    "\n",
    "# 3. Hapus kolom kosong \n",
    "df = df.loc[:, ~df.columns.str.contains('^Unnamed')]\n",
    "df = df.dropna(how='all', axis=1)\n",
    "\n",
    "# 4. Fungsi bantu untuk membersihkan angka\n",
    "def clean_numeric(val):\n",
    "    if pd.isna(val):\n",
    "        return 0\n",
    "    val = str(val).replace(\"Rp\", \"\").replace(\"Rp.\", \"\")\n",
    "    val = val.replace(\".\", \"\").replace(\",\", \"\").strip()\n",
    "    return int(val) if val.isdigit() else val  # return value yg bkn numerik\n",
    "\n",
    "def clean_float(val):\n",
    "    if pd.isna(val):\n",
    "        return 0.0\n",
    "    val = str(val).replace(\"%\", \"\").replace(\",\", \".\").strip()\n",
    "    try:\n",
    "        return float(val)\n",
    "    except:\n",
    "        return val  # Return original value if conversion fails\n",
    "\n",
    "# 5. Bersihkan kolom berdasarkan jenis data\n",
    "for col in df.columns:\n",
    "    # Periksa apakah kolom adalah kolom kategori\n",
    "    if col.lower() == 'kategori':\n",
    "        # Biarkan nilai kolom kategori apa adanya, hanya ganti NaN dengan string kosong\n",
    "        df[col] = df[col].fillna('').astype(str)\n",
    "    elif df[col].dtype == object:\n",
    "        # Cek apakah kolom berisi data numerik dengan format tertentu\n",
    "        if df[col].str.contains(\"Rp|%\", na=False).any():\n",
    "            if df[col].str.contains(\"%\").any():\n",
    "                df[col] = df[col].apply(clean_float)\n",
    "            elif df[col].str.contains(\"Rp\").any():\n",
    "                df[col] = df[col].apply(clean_numeric)\n",
    "        # Cek apakah kolom berisi angka dengan pemisah ribuan (.)\n",
    "        elif df[col].str.contains(r\"\\d+\\.\\d+\", na=False, regex=True).any():\n",
    "            df[col] = df[col].apply(clean_numeric)\n",
    "        else:\n",
    "            # Jika kolom hanya berisi teks, biarkan tetap sebagai teks\n",
    "            df[col] = df[col].astype(str)\n",
    "\n",
    "# 6. Simpan ke file CSV baru\n",
    "output_file = \"cleaned_item.csv\"\n",
    "df.to_csv(output_file, index=False)\n",
    "\n",
    "print(f\"File hasil cleaning disimpan sebagai '{output_file}'\")"
   ]
  }
 ],
 "metadata": {
  "kernelspec": {
   "display_name": "DIP",
   "language": "python",
   "name": "python3"
  },
  "language_info": {
   "codemirror_mode": {
    "name": "ipython",
    "version": 3
   },
   "file_extension": ".py",
   "mimetype": "text/x-python",
   "name": "python",
   "nbconvert_exporter": "python",
   "pygments_lexer": "ipython3",
   "version": "3.10.13"
  }
 },
 "nbformat": 4,
 "nbformat_minor": 5
}
