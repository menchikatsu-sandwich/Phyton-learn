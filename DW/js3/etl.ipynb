{
 "cells": [
  {
   "cell_type": "code",
   "execution_count": 3,
   "id": "3d7e6955",
   "metadata": {},
   "outputs": [
    {
     "name": "stdout",
     "output_type": "stream",
     "text": [
      "Proses ETL selesai. Data telah disimpan ke merged_data.csv\n"
     ]
    }
   ],
   "source": [
    "import pandas as pd\n",
    "\n",
    "# Langkah Extract: Membaca data dari file CSV\n",
    "df_customers = pd.read_csv('customers.csv')\n",
    "df_transactions = pd.read_csv('transactions.csv')\n",
    "\n",
    "# Langkah Transform: Menggabungkan data dan melakukan beberapa transformasi\n",
    "# Misalnya, kita ingin menggabungkan data pelanggan dan transaksi berdasarkan ID pelanggan\n",
    "df_merged = pd.merge(df_customers, df_transactions, on='customer_id')\n",
    "\n",
    "# Misalnya, kita ingin menambahkan kolom baru yang menunjukkan apakah transaksi tersebut di atas rata-rata\n",
    "average_transaction = df_merged['amount'].mean()\n",
    "df_merged['above_average'] = df_merged['amount'] > average_transaction\n",
    "\n",
    "# Langkah Load: Menyimpan hasil ke file CSV baru\n",
    "df_merged.to_csv('merged_data.csv', index=False)\n",
    "print(\"Proses ETL selesai. Data telah disimpan ke merged_data.csv\")"
   ]
  }
 ],
 "metadata": {
  "kernelspec": {
   "display_name": "DIP",
   "language": "python",
   "name": "python3"
  },
  "language_info": {
   "codemirror_mode": {
    "name": "ipython",
    "version": 3
   },
   "file_extension": ".py",
   "mimetype": "text/x-python",
   "name": "python",
   "nbconvert_exporter": "python",
   "pygments_lexer": "ipython3",
   "version": "3.10.13"
  }
 },
 "nbformat": 4,
 "nbformat_minor": 5
}
