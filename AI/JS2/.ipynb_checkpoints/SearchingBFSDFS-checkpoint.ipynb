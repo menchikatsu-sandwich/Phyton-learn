{
 "cells": [
  {
   "cell_type": "code",
   "execution_count": 2,
   "id": "73b3b4c1-58d0-40de-9528-f95a53075eb0",
   "metadata": {},
   "outputs": [
    {
     "name": "stdout",
     "output_type": "stream",
     "text": [
      "A B C D E F G H I "
     ]
    }
   ],
   "source": [
    "graph = {\n",
    "    'A' : ['B', 'C', 'D'],\n",
    "    'B' : ['E', 'F'],\n",
    "    'C' : ['G', 'H'],\n",
    "    'D' : ['I', 'J'],\n",
    "    'E' : ['K', 'L'],\n",
    "    'F' : ['L', 'M'],\n",
    "    'G' : ['N'],\n",
    "    'H' : ['O', 'P'],\n",
    "    'I' : ['P', 'Q'],\n",
    "    'J' : ['R'],\n",
    "    'K' : ['S'],\n",
    "    'L' : ['T'],\n",
    "    'M' : [],\n",
    "    'N' : [],\n",
    "    'O' : [],\n",
    "    'P' : ['U*'],\n",
    "    'Q' : [],\n",
    "    'R' : [],\n",
    "    'S' : [],\n",
    "    'T' : [],\n",
    "    'U*' : []\n",
    "}\n",
    "\n",
    "visited = []\n",
    "queue = []\n",
    "\n",
    "def bfs(visited, graph, start, target):\n",
    "    visited.append(start)\n",
    "    queue.append(start)\n",
    "    # print(visited)\n",
    "    # print(queue)\n",
    "\n",
    "    while queue:\n",
    "        s = queue.pop(0)\n",
    "        print(s, end = \" \")\n",
    "        if s == target:\n",
    "            return\n",
    "        for neighbour in graph[s]:\n",
    "            if neighbour not in visited:\n",
    "                visited.append(neighbour)\n",
    "                queue.append(neighbour)\n",
    "                # print(visited)\n",
    "                # print(queue)\n",
    "bfs(visited, graph, 'A', 'I')"
   ]
  },
  {
   "cell_type": "code",
   "execution_count": 5,
   "id": "25181cf3-b740-49c4-81f1-6faf936b9247",
   "metadata": {},
   "outputs": [
    {
     "data": {
      "text/plain": [
       "['A',\n",
       " 'B',\n",
       " 'E',\n",
       " 'K',\n",
       " 'S',\n",
       " 'L',\n",
       " 'T',\n",
       " 'F',\n",
       " 'M',\n",
       " 'C',\n",
       " 'G',\n",
       " 'N',\n",
       " 'H',\n",
       " 'O',\n",
       " 'P',\n",
       " 'U*',\n",
       " 'D',\n",
       " 'I']"
      ]
     },
     "execution_count": 5,
     "metadata": {},
     "output_type": "execute_result"
    }
   ],
   "source": [
    "graph = {\n",
    "    'A' : ['B', 'C', 'D'],\n",
    "    'B' : ['E', 'F'],\n",
    "    'C' : ['G', 'H'],\n",
    "    'D' : ['I', 'J'],\n",
    "    'E' : ['K', 'L'],\n",
    "    'F' : ['L', 'M'],\n",
    "    'G' : ['N'],\n",
    "    'H' : ['O', 'P'],\n",
    "    'I' : ['P', 'Q'],\n",
    "    'J' : ['R'],\n",
    "    'K' : ['S'],\n",
    "    'L' : ['T'],\n",
    "    'M' : [],\n",
    "    'N' : [],\n",
    "    'O' : [],\n",
    "    'P' : ['U*'],\n",
    "    'Q' : [],\n",
    "    'R' : [],\n",
    "    'S' : [],\n",
    "    'T' : [],\n",
    "    'U*' : []\n",
    "}\n",
    "\n",
    "path=[]\n",
    "visited=set()\n",
    "\n",
    "def dfs(graph, start, target, path, visited):\n",
    "    path.append(start)\n",
    "    visited.add(start)\n",
    "    # print(path)\n",
    "    # print(visited)\n",
    "\n",
    "    if start == target:\n",
    "        return path\n",
    "    for neighbour in graph[start]:\n",
    "        if neighbour not in visited:\n",
    "            result = dfs(graph, neighbour, target, path, visited)\n",
    "            # print(result)\n",
    "            if result is not None:\n",
    "                return result\n",
    "    return None\n",
    "\n",
    "dfs(graph, 'A', 'I', path, visited)"
   ]
  },
  {
   "cell_type": "code",
   "execution_count": null,
   "id": "73460592-7463-4f38-971e-5e59df0a6430",
   "metadata": {},
   "outputs": [],
   "source": []
  }
 ],
 "metadata": {
  "kernelspec": {
   "display_name": "Python 3 (ipykernel)",
   "language": "python",
   "name": "python3"
  },
  "language_info": {
   "codemirror_mode": {
    "name": "ipython",
    "version": 3
   },
   "file_extension": ".py",
   "mimetype": "text/x-python",
   "name": "python",
   "nbconvert_exporter": "python",
   "pygments_lexer": "ipython3",
   "version": "3.10.16"
  }
 },
 "nbformat": 4,
 "nbformat_minor": 5
}
