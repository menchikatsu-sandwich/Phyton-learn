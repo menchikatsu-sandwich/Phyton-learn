{
 "cells": [
  {
   "cell_type": "code",
   "execution_count": 1,
   "metadata": {},
   "outputs": [
    {
     "name": "stdout",
     "output_type": "stream",
     "text": [
      "CacarBintik = 0.32653061224489804\n",
      "AlergiBintik = 0.21428571428571427\n",
      "JerawatanBintik = 0.45918367346938777\n"
     ]
    }
   ],
   "source": [
    "# func utk menjumlahkan p(E|Hk) * p(Hk) dari k=1 ke n\n",
    "def sumAll(dict_penyakit, dict_gejalaPenyakit):\n",
    "    pSum = 0.0\n",
    "    for index in range(len(dict_penyakit['name'])):\n",
    "        pEHk = dict_penyakit[\"value\"][index]\n",
    "        pHk = dict_gejalaPenyakit[\"value\"][index]\n",
    "        pSum = pSum + (pEHk * pHk)\n",
    "    return pSum\n",
    "\n",
    "# func utk hitung p(Hi|E)\n",
    "# prob H Hi benar jika diberikan evidence E\n",
    "def bayesTheorem(pBA, pA, pAll):\n",
    "    return (pBA * pA) / pAll\n",
    "\n",
    "# main program\n",
    "# dict yg menyimpan nilai p(Hi), prob H Hi tanpa memandang evidence\n",
    "dict_penyakit = {\n",
    "    \"name\": [\"Cacar\", \"Alergi\", \"Jerawatan\"],\n",
    "    \"value\": [0.4, 0.7, 0.5]\n",
    "}\n",
    "\n",
    "# dict yg menyimpan gejala penyakit\n",
    "dict_gejala = {\n",
    "    \"name\": [\"Bintik\"]\n",
    "}\n",
    "\n",
    "# dict yg menyimpan nilai p(E|Hk), prob munculnya evidence E, jika diket H Hi benar\n",
    "dict_gejalaPenyakit = {\n",
    "    \"name\": [\"BintikCacar\", \"BintikAlergi\", \"BintikJerawatan\"],\n",
    "    \"value\": [0.8, 0.3, 0.9]\n",
    "}\n",
    "\n",
    "# dict yg menyimpan nilai p(Hi|E), prob H Hi benar jika diberikan evidence E\n",
    "result_Diagnose = {\n",
    "    \"name\": [\"CacarBintik\", \"AlergiBintik\", \"JerawatanBintik\"],\n",
    "    \"value\": []\n",
    "}\n",
    "\n",
    "# code utk call func sumAll, ambil nilai dari dict, dan call func bayesTheorem\n",
    "# serta menambahkan hasil perhitungan ke dict\n",
    "pSum = sumAll(dict_penyakit, dict_gejalaPenyakit)\n",
    "for index in range(len(dict_penyakit['name'])):\n",
    "    pEHi = dict_gejalaPenyakit[\"value\"][index]\n",
    "    pHi = dict_penyakit[\"value\"][index]\n",
    "    pHiE = bayesTheorem(pEHi, pHi, pSum)\n",
    "    result_Diagnose[\"value\"].append(pHiE)\n",
    "    \n",
    "# print nilai dalam dict hasil\n",
    "for index in range(len(result_Diagnose['name'])):\n",
    "    print(result_Diagnose[\"name\"][index], \"=\", result_Diagnose[\"value\"][index])\n",
    "    "
   ]
  },
  {
   "cell_type": "code",
   "execution_count": 4,
   "metadata": {},
   "outputs": [
    {
     "name": "stdout",
     "output_type": "stream",
     "text": [
      "CacarPanasBintik =  0.33333333333333337\n"
     ]
    }
   ],
   "source": [
    "#fungsi untuk menghitung nilai p(H | E, e),\n",
    "#probabilitas hipotesis H benar jika muncul evidence baru E dari evidence Lama e\n",
    "def bayesTheorem (pHE, peEH, peE):\n",
    "    return pHE * (peEH / peE)\n",
    "\n",
    "#program utama\n",
    "#dictionary untuk menyimpan penyakit\n",
    "dict_penyakit = {\n",
    "\"name\": [\"Cacar\"],\n",
    "}\n",
    "\n",
    "#dictionary untuk menyimpan gejala penyakit\n",
    "dict_gejala = {\n",
    "\"name\": [\"Bintik\", \"Panas\"]\n",
    "}\n",
    "\n",
    "#dictionary untuk menyimpan nilai p(e | E),\n",
    "#kaitan antara e dan E tanpa memandang hipotesis apapun \n",
    "dict_gabunganGejala = {\n",
    "\"name\": [\"BintikPanas\"],\n",
    "\"value\": [0.6]\n",
    "}\n",
    "\n",
    "#dictionary untuk menyimpan nilai p(H | E),\n",
    "#probabilitas hipotesis H benar jika diberikan evidence E \n",
    "dict_penyakitGejalaAwal = {\n",
    "\"name\": [\"CacarPanas\"],\n",
    "\"value\": [0.5]\n",
    "}\n",
    "\n",
    "#dictionary untuk menyimpan nilai p(e | E, H),\n",
    "#kaitan antara e dan E jika hipotesis H benar \n",
    "dict_gabunganGejalaPenyakit = {\n",
    "\"name\": [\"BintikPanasCacar\"],\n",
    "\"value\": [0.4]\n",
    "}\n",
    "\n",
    "#dictionary untuk menyimpan nilai p(H | E, e),\n",
    "#probabilitas hipotesis H benar jika muncul evidence baru E dari evidence Lama e \n",
    "result_Diagnose = {\n",
    "\"name\": [\"CacarPanasBintik\"],\n",
    "\"value\": []\n",
    "}\n",
    "\n",
    "#code untuk mengambil nilai dari dictionary\n",
    "#kemudian memanggil fungsi bayes Theorem (pHE, peEH, peE) #dan menambahkan hasil perhitungan ke dictionary \n",
    "for index in range(len(dict_penyakit['name'])):\n",
    "    pHE = dict_penyakitGejalaAwal[\"value\"][index]\n",
    "    peEH = dict_gabunganGejalaPenyakit[\"value\"][index]\n",
    "    peE = dict_gabunganGejala [\"value\"][index]\n",
    "    pHEe = bayesTheorem (pHE, peEH, peE)\n",
    "    result_Diagnose [\"value\"].append(pHEe)\n",
    "    \n",
    "#code untuk mencetak nilai dalam dictionary hasil \n",
    "for index in range(len(result_Diagnose['name'])):\n",
    "    print(result_Diagnose[\"name\"][index], \"= \", result_Diagnose[\"value\"][index])"
   ]
  }
 ],
 "metadata": {
  "kernelspec": {
   "display_name": "DIP",
   "language": "python",
   "name": "python3"
  },
  "language_info": {
   "codemirror_mode": {
    "name": "ipython",
    "version": 3
   },
   "file_extension": ".py",
   "mimetype": "text/x-python",
   "name": "python",
   "nbconvert_exporter": "python",
   "pygments_lexer": "ipython3",
   "version": "3.10.13"
  }
 },
 "nbformat": 4,
 "nbformat_minor": 2
}
