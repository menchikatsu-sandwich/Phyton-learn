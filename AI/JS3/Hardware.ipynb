{
 "cells": [
  {
   "cell_type": "code",
   "execution_count": 1,
   "metadata": {},
   "outputs": [
    {
     "name": "stdout",
     "output_type": "stream",
     "text": [
      "Probabilitas RAM Rusak berdasarkan gejala: 0.58\n",
      "Probabilitas Harddisk Bermasalah berdasarkan gejala: 0.50\n",
      "Keyakinan akan Evidence (CF): 0.60\n",
      "Dempster-Shafer: 0.72\n"
     ]
    }
   ],
   "source": [
    "# funct utk hitung prob bayes, CF, DS\n",
    "def bayesTheorem(pHE, pH, pE):\n",
    "    return (pHE * pH) / pE\n",
    "def certaintyFactor(MB, MD):\n",
    "    return MB - MD\n",
    "def dempsterShafer(m1, m2):\n",
    "    return (m1 * m2) / (1 - (m1 * m2))\n",
    "\n",
    "# dict masalah hardware\n",
    "dict_masalah = {\n",
    "    \"nama\": [\"RAM Rusak\", \"Harddisk Bermasalah\"]\n",
    "}\n",
    "\n",
    "# dict gejala yang muncul\n",
    "dict_gejala = {\n",
    "    \"nama\": [\"Blue Screen\", \"Komputer Lemot\"]\n",
    "}\n",
    "\n",
    "# dict hubungan antara gejala dan masalah dengan nilai probabilitas\n",
    "dict_hubungan = {\n",
    "    \"nama\": [\"BlueScreenRAM\", \"LemotHDD\"],\n",
    "    \"value\": [0.7, 0.6]\n",
    "}\n",
    "\n",
    "# Perhitungan probabilitas menggunakan Teorema Bayes\n",
    "for index in range(len(dict_masalah['nama'])):\n",
    "    pH = 0.5\n",
    "    pHE = dict_hubungan[\"value\"][index]\n",
    "    pE = 0.6\n",
    "    hasil_probabilitas = bayesTheorem(pHE, pH, pE)\n",
    "    print(f\"Probabilitas {dict_masalah['nama'][index]} berdasarkan gejala: {hasil_probabilitas:.2f}\")\n",
    "\n",
    "# Perhitungan CF\n",
    "MB = 0.8 \n",
    "MD = 0.2 \n",
    "hasil_cf = certaintyFactor(MB, MD)\n",
    "print(f\"Keyakinan akan Evidence (CF): {hasil_cf:.2f}\")\n",
    "\n",
    "# Perhitungan Dempster-Shafer\n",
    "m1 = 0.7 \n",
    "m2 = 0.6 \n",
    "hasil_ds = dempsterShafer(m1, m2)\n",
    "print(f\"Dempster-Shafer: {hasil_ds:.2f}\")\n"
   ]
  }
 ],
 "metadata": {
  "kernelspec": {
   "display_name": "DIP",
   "language": "python",
   "name": "python3"
  },
  "language_info": {
   "codemirror_mode": {
    "name": "ipython",
    "version": 3
   },
   "file_extension": ".py",
   "mimetype": "text/x-python",
   "name": "python",
   "nbconvert_exporter": "python",
   "pygments_lexer": "ipython3",
   "version": "3.10.13"
  }
 },
 "nbformat": 4,
 "nbformat_minor": 2
}
