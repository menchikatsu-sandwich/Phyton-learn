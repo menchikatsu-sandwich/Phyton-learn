{
 "cells": [
  {
   "cell_type": "code",
   "execution_count": 1,
   "id": "ea990296-94fb-4cb6-a464-601ddc6ab49c",
   "metadata": {},
   "outputs": [
    {
     "name": "stdout",
     "output_type": "stream",
     "text": [
      "Bilangan genap\n"
     ]
    }
   ],
   "source": [
    "bilangan = int(input(\"Masukkan nilai bilangan bulat = \"))\n",
    "if (bilangan%2)==0:\n",
    "    print(\"Bilangan genap\")"
   ]
  },
  {
   "cell_type": "code",
   "execution_count": 6,
   "id": "0fe6c6cf-f150-4d2b-94f1-5b80796c6244",
   "metadata": {},
   "outputs": [
    {
     "name": "stdout",
     "output_type": "stream",
     "text": [
      "Masukkan nilai bilangan bulat =  7\n"
     ]
    },
    {
     "name": "stdout",
     "output_type": "stream",
     "text": [
      "Bilangan ganjil\n"
     ]
    }
   ],
   "source": [
    "bilangan = int(input(\"Masukkan nilai bilangan bulat = \"))\n",
    "if (bilangan%2)==0:\n",
    "    print(\"Bilangan genap\")\n",
    "else:\n",
    "    print(\"Bilangan ganjil\")"
   ]
  },
  {
   "cell_type": "code",
   "execution_count": 9,
   "id": "5ec46542-a140-4c93-8e6a-94a668cc56d5",
   "metadata": {},
   "outputs": [
    {
     "name": "stdout",
     "output_type": "stream",
     "text": [
      "Masukkan nilai bilangan bulat =  -3\n"
     ]
    },
    {
     "name": "stdout",
     "output_type": "stream",
     "text": [
      "Bilangan niggatif\n"
     ]
    }
   ],
   "source": [
    "bilangan = int(input(\"Masukkan nilai bilangan bulat = \"))\n",
    "if (bilangan>0):\n",
    "    print(\"Bilangan positif\")\n",
    "elif (bilangan<0):\n",
    "    print(\"Bilangan niggatif\")\n",
    "else:\n",
    "    print(\"Nol\")"
   ]
  },
  {
   "cell_type": "code",
   "execution_count": 14,
   "id": "8dfb51e8-0d6f-4036-8952-34a765b5475a",
   "metadata": {},
   "outputs": [
    {
     "name": "stdout",
     "output_type": "stream",
     "text": [
      "Masukkan banyaknya bilangan =  4\n"
     ]
    },
    {
     "name": "stdout",
     "output_type": "stream",
     "text": [
      "Jumlah =  10\n"
     ]
    }
   ],
   "source": [
    "N = int(input(\"Masukkan banyaknya bilangan = \"))\n",
    "jumlah = 0\n",
    "angka = 1\n",
    "while (angka<=N):\n",
    "    jumlah += angka\n",
    "    angka += 1\n",
    "print(\"Jumlah = \", jumlah)"
   ]
  },
  {
   "cell_type": "code",
   "execution_count": 15,
   "id": "9508aae8-8565-466c-bfda-b7c9dda9620f",
   "metadata": {},
   "outputs": [
    {
     "name": "stdout",
     "output_type": "stream",
     "text": [
      "apel\n",
      "pisang\n",
      "cherry\n"
     ]
    }
   ],
   "source": [
    "buah = [\"apel\",\"pisang\",\"cherry\"]\n",
    "for x in buah:\n",
    "    print(x)"
   ]
  },
  {
   "cell_type": "code",
   "execution_count": 19,
   "id": "b3057e59-fe46-4ae6-8abe-5da1439696df",
   "metadata": {},
   "outputs": [
    {
     "name": "stdout",
     "output_type": "stream",
     "text": [
      "Perulangan ke- 5\n",
      "Perulangan ke- 8\n",
      "Perulangan ke- 11\n",
      "Perulangan ke- 14\n"
     ]
    }
   ],
   "source": [
    "for x in range(5, 15, 3):\n",
    "    print(\"Perulangan ke-\", x)"
   ]
  },
  {
   "cell_type": "code",
   "execution_count": 20,
   "id": "f1f365b4-5731-4268-9ff0-f8cbdddfd926",
   "metadata": {},
   "outputs": [
    {
     "name": "stdout",
     "output_type": "stream",
     "text": [
      "Hasil Penjumlahan 0 + 0  =  0\n",
      "Hasil Penjumlahan 0 + 1  =  1\n",
      "Hasil Penjumlahan 0 + 2  =  2\n",
      "Hasil Penjumlahan 0 + 3  =  3\n",
      "Hasil Penjumlahan 1 + 0  =  1\n",
      "Hasil Penjumlahan 1 + 1  =  2\n",
      "Hasil Penjumlahan 1 + 2  =  3\n",
      "Hasil Penjumlahan 1 + 3  =  4\n"
     ]
    }
   ],
   "source": [
    "for i in range(2):\n",
    "    for j in range(4):\n",
    "        print(\"Hasil Penjumlahan\",i,\"+\",j,\" = \",i+j)"
   ]
  },
  {
   "cell_type": "code",
   "execution_count": 21,
   "id": "157fa2db-ec2d-43c5-99c6-119bb314bd39",
   "metadata": {},
   "outputs": [
    {
     "name": "stdout",
     "output_type": "stream",
     "text": [
      "Masukkan alas =  2\n",
      "Masukkan tinggi =  4\n"
     ]
    },
    {
     "name": "stdout",
     "output_type": "stream",
     "text": [
      "Luas Segitiga =  4.0\n"
     ]
    }
   ],
   "source": [
    "def Hitung_Luas_Segitiga(a,t):\n",
    "    l = (a * t)/2\n",
    "    print(\"Luas Segitiga = \",l)\n",
    "\n",
    "alas = float(input(\"Masukkan alas = \"))\n",
    "tinggi = float(input(\"Masukkan tinggi = \"))\n",
    "Hitung_Luas_Segitiga(alas, tinggi)"
   ]
  },
  {
   "cell_type": "code",
   "execution_count": 3,
   "id": "5fb9ac73-f22b-4375-ac19-680f1ea665c8",
   "metadata": {},
   "outputs": [
    {
     "name": "stdout",
     "output_type": "stream",
     "text": [
      "Luas segitiga =  187.5\n"
     ]
    }
   ],
   "source": [
    "def Hitung_Luas_Segitiga(a,t):\n",
    "    l = (a * t)/2\n",
    "    return l\n",
    "\n",
    "alas = float(input(\"Masukkan alas = \"))\n",
    "tinggi = float(input(\"Masukkan tinggi = \"))\n",
    "print(\"Luas segitiga = \",Hitung_Luas_Segitiga(alas, tinggi))"
   ]
  },
  {
   "cell_type": "code",
   "execution_count": 25,
   "id": "6c9ddc0d-6edc-4212-91d3-b72e09e3ac59",
   "metadata": {},
   "outputs": [
    {
     "name": "stdout",
     "output_type": "stream",
     "text": [
      "MASUKKAN BILANGAN =  5\n"
     ]
    },
    {
     "name": "stdout",
     "output_type": "stream",
     "text": [
      "0 !=  1\n",
      "1 !=  1\n",
      "2 !=  2\n",
      "3 !=  6\n",
      "4 !=  24\n"
     ]
    }
   ],
   "source": [
    "def faktorial(n):\n",
    "    if n <= 1:\n",
    "        return 1\n",
    "    else:\n",
    "        return n * faktorial(n-1)\n",
    "i = 0\n",
    "n = int(input(\"MASUKKAN BILANGAN = \"))\n",
    "\n",
    "while (i<n):\n",
    "    print(i, \"!= \", faktorial(i))\n",
    "    i+=1"
   ]
  },
  {
   "cell_type": "code",
   "execution_count": null,
   "id": "35087f2a-35ca-4b5e-a9eb-624454e2f0d0",
   "metadata": {},
   "outputs": [],
   "source": []
  }
 ],
 "metadata": {
  "kernelspec": {
   "display_name": "DIP",
   "language": "python",
   "name": "python3"
  },
  "language_info": {
   "codemirror_mode": {
    "name": "ipython",
    "version": 3
   },
   "file_extension": ".py",
   "mimetype": "text/x-python",
   "name": "python",
   "nbconvert_exporter": "python",
   "pygments_lexer": "ipython3",
   "version": "3.10.13"
  }
 },
 "nbformat": 4,
 "nbformat_minor": 5
}
