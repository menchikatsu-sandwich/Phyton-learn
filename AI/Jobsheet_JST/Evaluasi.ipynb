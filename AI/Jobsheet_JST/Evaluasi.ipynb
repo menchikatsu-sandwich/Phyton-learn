{
 "cells": [
  {
   "cell_type": "code",
   "execution_count": 4,
   "id": "3a4c8ba9",
   "metadata": {},
   "outputs": [
    {
     "name": "stdout",
     "output_type": "stream",
     "text": [
      "Bobot OR: w1=2, w2=2, b=2\n",
      "Bobot AND: w1=2, w2=2, b=-2\n"
     ]
    }
   ],
   "source": [
    "# Hebb Rule -> func\n",
    "def hebb_learning(data_input, target_output):\n",
    "    w1 = w2 = b = 0\n",
    "    for i in range(len(data_input)):\n",
    "        x1, x2 = data_input[i]\n",
    "        y = target_output[i]\n",
    "        w1 += x1 * y\n",
    "        w2 += x2 * y\n",
    "        b += y\n",
    "    return w1, w2, b\n",
    "\n",
    "# Contoh penggunaan untuk fungsi OR\n",
    "data_or = [[-1, -1], [-1, 1], [1, -1], [1, 1]]\n",
    "target_or = [-1, 1, 1, 1]\n",
    "w1_or, w2_or, b_or = hebb_learning(data_or, target_or)\n",
    "print(f\"Bobot OR: w1={w1_or}, w2={w2_or}, b={b_or}\")\n",
    "\n",
    "# Contoh penggunaan untuk fungsi AND\n",
    "target_and = [-1, -1, -1, 1]\n",
    "w1_and, w2_and, b_and = hebb_learning(data_or, target_and)\n",
    "print(f\"Bobot AND: w1={w1_and}, w2={w2_and}, b={b_and}\")\n"
   ]
  },
  {
   "cell_type": "code",
   "execution_count": 3,
   "id": "a61ba09f",
   "metadata": {},
   "outputs": [
    {
     "name": "stdout",
     "output_type": "stream",
     "text": [
      "Bobot OR: w1=0.0, w2=0.8, b=0.8, epoch=1001\n"
     ]
    }
   ],
   "source": [
    "# Perceptron -> func\n",
    "def perceptron_learning(data_input, target_output, alpha=0.8, theta=0.5, max_epoch=1000):\n",
    "    w1 = w2 = b = 0\n",
    "    epoch = 1\n",
    "    while epoch <= max_epoch:\n",
    "        same = 0\n",
    "        for i in range(len(data_input)):\n",
    "            x1, x2 = data_input[i]\n",
    "            y_true = target_output[i]\n",
    "            y_in = w1*x1 + w2*x2 + b\n",
    "            if y_in > theta:\n",
    "                y_pred = 1\n",
    "            elif y_in >= -theta:\n",
    "                y_pred = 0\n",
    "            else:\n",
    "                y_pred = -1\n",
    "\n",
    "            if y_pred == y_true:\n",
    "                same += 1\n",
    "            else:\n",
    "                w1 += alpha * x1 * y_true\n",
    "                w2 += alpha * x2 * y_true\n",
    "                b += alpha * y_true\n",
    "        if same == len(data_input):\n",
    "            break\n",
    "        epoch += 1\n",
    "    return w1, w2, b, epoch\n",
    "\n",
    "# Contoh penggunaan untuk fungsi OR\n",
    "data_or = [[0, 0], [0, 1], [1, 0], [1, 1]]\n",
    "target_or = [0, 1, 1, 1]\n",
    "w1_or, w2_or, b_or, epoch_or = perceptron_learning(data_or, target_or)\n",
    "print(f\"Bobot OR: w1={w1_or}, w2={w2_or}, b={b_or}, epoch={epoch_or}\")"
   ]
  },
  {
   "cell_type": "code",
   "execution_count": 1,
   "id": "37fcd646",
   "metadata": {},
   "outputs": [
    {
     "name": "stdout",
     "output_type": "stream",
     "text": [
      "Bobot akhir: [0.5000000000000009, 0.40000000000000036, 0.40000000000000024]\n",
      "Bias akhir: -2.0000000000000004\n",
      "Jumlah epoch: 24\n",
      "Akurasi: 100.00%\n"
     ]
    }
   ],
   "source": [
    "# Percepton berdasar data bermain\n",
    "# Data input: [cuaca, angin, suhu]\n",
    "data_input = [\n",
    "    [3, 1, 1], [1, 1, 3], [3, 2, 3], [3, 2, 1], [1, 1, 1],\n",
    "    [1, 1, 3], [3, 1, 2], [2, 3, 4], [3, 3, 1], [3, 3, 4],\n",
    "    [3, 2, 2], [3, 3, 2], [1, 2, 2], [3, 2, 1], [2, 3, 2],\n",
    "    [1, 2, 1], [2, 3, 2], [2, 3, 4], [2, 1, 4], [2, 3, 3],\n",
    "]\n",
    "\n",
    "# Target output: keputusan_bermain\n",
    "target_output = [\n",
    "    0, 0, 1, 1, 0,\n",
    "    0, 1, 1, 1, 1,\n",
    "    1, 1, 0, 1, 1,\n",
    "    0, 1, 1, 1, 1\n",
    "]\n",
    "\n",
    "# Fungsi pelatihan Perceptron\n",
    "def perceptron_training(data, target, alpha=0.1, theta=0.5, max_epoch=1000):\n",
    "    w = [0] * len(data[0])\n",
    "    b = 0\n",
    "    epoch = 0\n",
    "\n",
    "    while epoch < max_epoch:\n",
    "        total_correct = 0\n",
    "        for i in range(len(data)):\n",
    "            y_in = sum([data[i][j] * w[j] for j in range(len(data[0]))]) + b\n",
    "            y_pred = 1 if y_in > theta else 0\n",
    "            if y_pred == target[i]:\n",
    "                total_correct += 1\n",
    "            else:\n",
    "                for j in range(len(w)):\n",
    "                    w[j] += alpha * (target[i] - y_pred) * data[i][j]\n",
    "                b += alpha * (target[i] - y_pred)\n",
    "        if total_correct == len(data):\n",
    "            break\n",
    "        epoch += 1\n",
    "    return w, b, epoch\n",
    "\n",
    "# Fungsi pengujian & akurasi\n",
    "def test_accuracy(w, b, data, target, theta=0.5):\n",
    "    correct = 0\n",
    "    for i in range(len(data)):\n",
    "        y_in = sum([data[i][j] * w[j] for j in range(len(data[0]))]) + b\n",
    "        y_pred = 1 if y_in > theta else 0\n",
    "        if y_pred == target[i]:\n",
    "            correct += 1\n",
    "    accuracy = correct / len(data) * 100\n",
    "    return accuracy\n",
    "\n",
    "# Latih model\n",
    "w, b, epoch = perceptron_training(data_input, target_output)\n",
    "accuracy = test_accuracy(w, b, data_input, target_output)\n",
    "\n",
    "# Output\n",
    "print(f\"Bobot akhir: {w}\")\n",
    "print(f\"Bias akhir: {b}\")\n",
    "print(f\"Jumlah epoch: {epoch}\")\n",
    "print(f\"Akurasi: {accuracy:.2f}%\")\n"
   ]
  }
 ],
 "metadata": {
  "kernelspec": {
   "display_name": "DIP",
   "language": "python",
   "name": "python3"
  },
  "language_info": {
   "codemirror_mode": {
    "name": "ipython",
    "version": 3
   },
   "file_extension": ".py",
   "mimetype": "text/x-python",
   "name": "python",
   "nbconvert_exporter": "python",
   "pygments_lexer": "ipython3",
   "version": "3.10.13"
  }
 },
 "nbformat": 4,
 "nbformat_minor": 5
}
