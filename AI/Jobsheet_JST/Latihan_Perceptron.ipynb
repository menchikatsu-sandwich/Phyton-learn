{
 "cells": [
  {
   "cell_type": "code",
   "execution_count": 19,
   "id": "c8a5f55e",
   "metadata": {},
   "outputs": [
    {
     "data": {
      "text/plain": [
       "{'x1': [1, 1, 0, 0],\n",
       " 'x2': [1, 0, 1, 0],\n",
       " 'y_or': [1, 1, 1, -1],\n",
       " 'y_and': [1, -1, -1, -1]}"
      ]
     },
     "execution_count": 19,
     "metadata": {},
     "output_type": "execute_result"
    }
   ],
   "source": [
    "#input data latih utk func or dan and\n",
    "# structure data dict of list\n",
    "data = {\n",
    "    'x1':[1, 1, 0, 0],\n",
    "    'x2':[1, 0, 1, 0],\n",
    "    'y_or':[1, 1, 1, -1],\n",
    "    'y_and':[1, -1, -1, -1]\n",
    "}\n",
    "\n",
    "data"
   ]
  },
  {
   "cell_type": "code",
   "execution_count": 20,
   "id": "597a967c",
   "metadata": {},
   "outputs": [],
   "source": [
    "# set parameter awal\n",
    "b = 0\n",
    "w1 = 0\n",
    "w2 = 0\n",
    "alpha = 0.8     # learning rate\n",
    "theta = 0.5     # threshold"
   ]
  },
  {
   "cell_type": "code",
   "execution_count": 21,
   "id": "4cf35baa",
   "metadata": {},
   "outputs": [
    {
     "name": "stdout",
     "output_type": "stream",
     "text": [
      "Epoch :  1\n",
      "w1 0.8, w2 0.8, b 0.8\n",
      "w1 0.8, w2 0.8, b 0.8\n",
      "w1 0.8, w2 0.8, b 0.8\n",
      "w1 0.8, w2 0.8, b 0.0\n",
      "Epoch :  2\n",
      "w1 0.8, w2 0.8, b 0.0\n",
      "w1 0.8, w2 0.8, b 0.0\n",
      "w1 0.8, w2 0.8, b 0.0\n",
      "w1 0.8, w2 0.8, b -0.8\n",
      "Epoch :  3\n",
      "w1 0.8, w2 0.8, b -0.8\n",
      "w1 1.6, w2 0.8, b 0.0\n",
      "w1 1.6, w2 0.8, b 0.0\n",
      "w1 1.6, w2 0.8, b -0.8\n",
      "Epoch :  4\n",
      "w1 1.6, w2 0.8, b -0.8\n",
      "w1 1.6, w2 0.8, b -0.8\n",
      "w1 1.6, w2 1.6, b 0.0\n",
      "w1 1.6, w2 1.6, b -0.8\n",
      "Epoch :  5\n",
      "w1 1.6, w2 1.6, b -0.8\n",
      "w1 1.6, w2 1.6, b -0.8\n",
      "w1 1.6, w2 1.6, b -0.8\n",
      "w1 1.6, w2 1.6, b -0.8\n"
     ]
    }
   ],
   "source": [
    "# Proses learning fungsi OR\n",
    "epoch = 1  # inisialisasi perulangan\n",
    "run = True # kondisi awal run = True agar perulangan berjalan\n",
    "\n",
    "# perulangan akan berjalan selama run bernilai True dan epoch belum mencapai 1000\n",
    "while run == True and epoch <= 1000:\n",
    "    print('Epoch : ', epoch)\n",
    "\n",
    "    sama = 0 # penanda untuk jumlah data yang diprediksi dengan benar\n",
    "\n",
    "    # perulangan untuk semua data mulai dari data ke-1 hingga ke-4\n",
    "    for i in range(0, len(data['x1'])):\n",
    "        # menghitung nilai y_in\n",
    "        y_in = b + data['x1'][i] * w1 + data['x2'][i] * w2\n",
    "\n",
    "        # mengaplikasikan fungsi bipolar dengan threshold\n",
    "        if y_in > theta:\n",
    "            y = 1\n",
    "        elif y_in < -theta:\n",
    "            y = -1\n",
    "        else:\n",
    "            y = 0\n",
    "\n",
    "        # mengambil nilai target dari data\n",
    "        target = data['y_or'][i]\n",
    "        if target != y:  # mengecek apakah target tidak sama dengan hasil perhitungan fungsi\n",
    "            # update bobot dan bias bila tak sama\n",
    "            w1 = w1 + alpha * target * data['x1'][i]\n",
    "            w2 = w2 + alpha * target * data['x2'][i]\n",
    "            b  = b + alpha * target\n",
    "        else:  # jika target sama dengan y hasil perhitungan, maka banyaknya data yang sama bertambah\n",
    "            sama = sama + 1\n",
    "\n",
    "        print('w1 {}, w2 {}, b {}'.format(w1, w2, b))\n",
    "\n",
    "    # jika semua data sama, maka\n",
    "    if sama == 4:\n",
    "        run = False\n",
    "    epoch = epoch + 1"
   ]
  },
  {
   "cell_type": "code",
   "execution_count": 22,
   "id": "dc00983c",
   "metadata": {},
   "outputs": [
    {
     "name": "stdout",
     "output_type": "stream",
     "text": [
      "y=  1\n"
     ]
    }
   ],
   "source": [
    "#uji dengan biner\n",
    "x1= 0\n",
    "x2= 1\n",
    "\n",
    "y_in=b+w1*x1 +w2*x2\n",
    "\n",
    "if y_in>theta:\n",
    "    y=1\n",
    "elif y_in < -theta:\n",
    "    y=-1\n",
    "else:\n",
    "    y=0\n",
    "\n",
    "print('y= ',y)"
   ]
  },
  {
   "cell_type": "code",
   "execution_count": 23,
   "id": "aeaa0b7a",
   "metadata": {},
   "outputs": [
    {
     "name": "stdout",
     "output_type": "stream",
     "text": [
      "Epoch :  1\n",
      "w1 1.6, w2 1.6, b -0.8\n",
      "w1 0.8, w2 1.6, b -1.6\n",
      "w1 0.8, w2 0.8, b -2.4000000000000004\n",
      "w1 0.8, w2 0.8, b -2.4000000000000004\n",
      "Epoch :  2\n",
      "w1 1.6, w2 1.6, b -1.6000000000000003\n",
      "w1 0.8, w2 1.6, b -2.4000000000000004\n",
      "w1 0.8, w2 1.6, b -2.4000000000000004\n",
      "w1 0.8, w2 1.6, b -2.4000000000000004\n",
      "Epoch :  3\n",
      "w1 1.6, w2 2.4000000000000004, b -1.6000000000000003\n",
      "w1 0.8, w2 2.4000000000000004, b -2.4000000000000004\n",
      "w1 0.8, w2 1.6000000000000003, b -3.2\n",
      "w1 0.8, w2 1.6000000000000003, b -3.2\n",
      "Epoch :  4\n",
      "w1 1.6, w2 2.4000000000000004, b -2.4000000000000004\n",
      "w1 1.6, w2 2.4000000000000004, b -2.4000000000000004\n",
      "w1 1.6, w2 1.6000000000000003, b -3.2\n",
      "w1 1.6, w2 1.6000000000000003, b -3.2\n",
      "Epoch :  5\n",
      "w1 2.4000000000000004, w2 2.4000000000000004, b -2.4000000000000004\n",
      "w1 1.6000000000000003, w2 2.4000000000000004, b -3.2\n",
      "w1 1.6000000000000003, w2 2.4000000000000004, b -3.2\n",
      "w1 1.6000000000000003, w2 2.4000000000000004, b -3.2\n",
      "Epoch :  6\n",
      "w1 1.6000000000000003, w2 2.4000000000000004, b -3.2\n",
      "w1 1.6000000000000003, w2 2.4000000000000004, b -3.2\n",
      "w1 1.6000000000000003, w2 2.4000000000000004, b -3.2\n",
      "w1 1.6000000000000003, w2 2.4000000000000004, b -3.2\n"
     ]
    }
   ],
   "source": [
    "# Proses learning fungsi OR\n",
    "epoch = 1  # inisialisasi perulangan\n",
    "run = True # kondisi awal run = True agar perulangan berjalan\n",
    "\n",
    "# perulangan akan berjalan selama run bernilai True dan epoch belum mencapai 1000\n",
    "while run == True and epoch <= 1000:\n",
    "    print('Epoch : ', epoch)\n",
    "\n",
    "    sama = 0 # penanda untuk jumlah data yang diprediksi dengan benar\n",
    "\n",
    "    # perulangan untuk semua data mulai dari data ke-1 hingga ke-4\n",
    "    for i in range(0, len(data['x1'])):\n",
    "        # menghitung nilai y_in\n",
    "        y_in = b + data['x1'][i] * w1 + data['x2'][i] * w2\n",
    "\n",
    "        # mengaplikasikan fungsi bipolar dengan threshold\n",
    "        if y_in > theta:\n",
    "            y = 1\n",
    "        elif y_in < -theta:\n",
    "            y = -1\n",
    "        else:\n",
    "            y = 0\n",
    "\n",
    "        # mengambil nilai target dari data\n",
    "        target = data['y_and'][i]\n",
    "        if target != y:  # mengecek apakah target tidak sama dengan hasil perhitungan fungsi\n",
    "            # update bobot dan bias bila tak sama\n",
    "            w1 = w1 + alpha * target * data['x1'][i]\n",
    "            w2 = w2 + alpha * target * data['x2'][i]\n",
    "            b  = b + alpha * target\n",
    "        else:  # jika target sama dengan y hasil perhitungan, maka banyaknya data yang sama bertambah\n",
    "            sama = sama + 1\n",
    "\n",
    "        print('w1 {}, w2 {}, b {}'.format(w1, w2, b))\n",
    "\n",
    "    # jika semua data sama, maka\n",
    "    if sama == 4:\n",
    "        run = False\n",
    "    epoch = epoch + 1"
   ]
  },
  {
   "cell_type": "code",
   "execution_count": 24,
   "id": "62164a5c",
   "metadata": {},
   "outputs": [
    {
     "name": "stdout",
     "output_type": "stream",
     "text": [
      "y=  -1\n"
     ]
    }
   ],
   "source": [
    "#uji dengan biner\n",
    "x1= 0\n",
    "x2= 1\n",
    "\n",
    "y_in=b+w1*x1 +w2*x2\n",
    "\n",
    "if y_in>theta:\n",
    "    y=1\n",
    "elif y_in < -theta:\n",
    "    y=-1\n",
    "else:\n",
    "    y=0\n",
    "\n",
    "print('y= ',y)"
   ]
  }
 ],
 "metadata": {
  "kernelspec": {
   "display_name": "DIP",
   "language": "python",
   "name": "python3"
  },
  "language_info": {
   "codemirror_mode": {
    "name": "ipython",
    "version": 3
   },
   "file_extension": ".py",
   "mimetype": "text/x-python",
   "name": "python",
   "nbconvert_exporter": "python",
   "pygments_lexer": "ipython3",
   "version": "3.10.13"
  }
 },
 "nbformat": 4,
 "nbformat_minor": 5
}
