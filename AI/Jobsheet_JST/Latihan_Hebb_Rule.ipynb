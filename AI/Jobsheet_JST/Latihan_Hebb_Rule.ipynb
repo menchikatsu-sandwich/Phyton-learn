{
 "cells": [
  {
   "cell_type": "code",
   "execution_count": 52,
   "id": "de371217",
   "metadata": {},
   "outputs": [
    {
     "data": {
      "text/plain": [
       "{'x1': [-1, -1, 1, 1],\n",
       " 'x2': [-1, 1, -1, 1],\n",
       " 'y_or': [-1, 1, 1, 1],\n",
       " 'y_and': [1, -1, -1, -1]}"
      ]
     },
     "execution_count": 52,
     "metadata": {},
     "output_type": "execute_result"
    }
   ],
   "source": [
    "#input data latih utk func or dan and\n",
    "# structure data dict of list\n",
    "data = {\n",
    "    'x1':[-1, -1, 1, 1],\n",
    "    'x2':[-1, 1, -1, 1],\n",
    "    'y_or':[-1, 1, 1, 1],\n",
    "    'y_and':[1, -1, -1, -1]\n",
    "}\n",
    "\n",
    "data"
   ]
  },
  {
   "cell_type": "code",
   "execution_count": 53,
   "id": "1a9aa6fe",
   "metadata": {},
   "outputs": [
    {
     "name": "stdout",
     "output_type": "stream",
     "text": [
      "w1 1, w2 1, b -1\n",
      "w1 0, w2 2, b 0\n",
      "w1 1, w2 1, b 1\n",
      "w1 2, w2 2, b 2\n"
     ]
    }
   ],
   "source": [
    "# Lat func or\n",
    "# parameter awal\n",
    "b = 0\n",
    "w1 = 0\n",
    "w2 = 0\n",
    "\n",
    "# perulangan bobot & bias\n",
    "# perulangan dilakukan 1x setiap data (4x karna ada 4 data)\n",
    "for i in range(0,len(data['x1'])):\n",
    "    w1 = w1 + data['x1'][i] * data['y_or'][i]\n",
    "    w2 = w2 + data['x2'][i] * data['y_or'][i]\n",
    "    b = b + data['y_or'][i]\n",
    "    print('w1 {}, w2 {}, b {}'.format(w1, w2, b))"
   ]
  },
  {
   "cell_type": "code",
   "execution_count": 54,
   "id": "9bc67222",
   "metadata": {},
   "outputs": [
    {
     "name": "stdout",
     "output_type": "stream",
     "text": [
      "y =  -1\n"
     ]
    }
   ],
   "source": [
    "# fase pengujian\n",
    "# uji dengan [-1,-1]\n",
    "x1 = -1\n",
    "x2 = -1\n",
    "\n",
    "# masukkan ke dalam rumus utk menghitung y\n",
    "y_in = b + w1*x1 + w2*x2\n",
    "\n",
    "# aplikasikan pada fungsi bipolar\n",
    "if y_in < 0 :\n",
    "    y = -1\n",
    "elif y_in == 0:\n",
    "    y = 0\n",
    "else:\n",
    "    y = 1\n",
    "    \n",
    "print('y = ', y)"
   ]
  },
  {
   "cell_type": "code",
   "execution_count": 55,
   "id": "2a8cd2d0",
   "metadata": {},
   "outputs": [
    {
     "name": "stdout",
     "output_type": "stream",
     "text": [
      "w1 -1, w2 -1, b 1\n",
      "w1 0, w2 -2, b 0\n",
      "w1 -1, w2 -1, b -1\n",
      "w1 -2, w2 -2, b -2\n"
     ]
    }
   ],
   "source": [
    "# Latihan func AND\n",
    "b = 0\n",
    "w1 = 0\n",
    "w2 = 0\n",
    "\n",
    "# perulangan utk update bobot dan bias\n",
    "# perulangan dilakukan 1x (4x karna ada 4 data)\n",
    "for i in range(0,len(data['x1'])):\n",
    "    w1 = w1 + data['x1'][i] * data['y_and'][i]\n",
    "    w2 = w2 + data['x2'][i] * data['y_and'][i]\n",
    "    b = b + data['y_and'][i]\n",
    "    print('w1 {}, w2 {}, b {}'.format(w1, w2, b))"
   ]
  },
  {
   "cell_type": "code",
   "execution_count": 56,
   "id": "0ef10a1e",
   "metadata": {},
   "outputs": [
    {
     "name": "stdout",
     "output_type": "stream",
     "text": [
      "y =  1\n"
     ]
    }
   ],
   "source": [
    "# fase pengujian\n",
    "# uji dengan [-1,-1]\n",
    "x1 = -1\n",
    "x2 = -1\n",
    "\n",
    "# masukkan ke dalam rumus utk menghitung y\n",
    "y_in = b + w1*x1 + w2*x2\n",
    "\n",
    "# aplikasikan pada fungsi bipolar\n",
    "if y_in < 0 :\n",
    "    y = -1\n",
    "elif y_in == 0:\n",
    "    y = 0\n",
    "else:\n",
    "    y = 1\n",
    "    \n",
    "print('y = ', y)"
   ]
  }
 ],
 "metadata": {
  "kernelspec": {
   "display_name": "DIP",
   "language": "python",
   "name": "python3"
  },
  "language_info": {
   "codemirror_mode": {
    "name": "ipython",
    "version": 3
   },
   "file_extension": ".py",
   "mimetype": "text/x-python",
   "name": "python",
   "nbconvert_exporter": "python",
   "pygments_lexer": "ipython3",
   "version": "3.10.13"
  }
 },
 "nbformat": 4,
 "nbformat_minor": 5
}
