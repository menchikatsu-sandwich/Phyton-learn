{
 "cells": [
  {
   "cell_type": "code",
   "execution_count": 1,
   "id": "fa51d93b",
   "metadata": {},
   "outputs": [
    {
     "name": "stdout",
     "output_type": "stream",
     "text": [
      "    x1   x2\n",
      "0  0.1  0.1\n",
      "1  0.2  0.2\n",
      "2  0.3  0.1\n",
      "3  0.5  0.3\n",
      "4  0.4  0.4\n",
      "5  0.2  0.4\n"
     ]
    }
   ],
   "source": [
    "# lib utk ubah data dari dict ke table\n",
    "import pandas as pd\n",
    "\n",
    "data = {\n",
    "    'x1': [0.1, 0.2, 0.3, 0.5, 0.4, 0.2],\n",
    "    'x2': [0.1, 0.2, 0.1, 0.3, 0.4, 0.4],\n",
    "}\n",
    "\n",
    "# ubah data ke table\n",
    "df = pd.DataFrame(data)\n",
    "#tampilkan data\n",
    "print(df)"
   ]
  },
  {
   "cell_type": "code",
   "execution_count": 2,
   "id": "138f96d6",
   "metadata": {},
   "outputs": [
    {
     "data": {
      "text/plain": [
       "[[0.5, 0.5], [0.5, 0.5]]"
      ]
     },
     "execution_count": 2,
     "metadata": {},
     "output_type": "execute_result"
    }
   ],
   "source": [
    "# set nilai matrix bobot\n",
    "# m: byk cluster\n",
    "# n: byk kolom\n",
    "w = [\n",
    "    [0.5,0.5],\n",
    "    [0.5,0.5],\n",
    "]\n",
    "\n",
    "# set nilai  inisiasi dari setiap parameter pembelajaran\n",
    "alpha = 0.6 # alpha\n",
    "maxEpoch = 10\n",
    "penguranganAlpha = 0.5\n",
    "\n",
    "# menampilkan matrix\n",
    "w"
   ]
  },
  {
   "cell_type": "code",
   "execution_count": 3,
   "id": "03fae9fc",
   "metadata": {},
   "outputs": [
    {
     "name": "stdout",
     "output_type": "stream",
     "text": [
      "Epoch  1\n",
      "Matrix w baru :  [[0.2696, 0.1496], [0.29600000000000004, 0.39680000000000004]]\n",
      "Epoch  2\n",
      "Matrix w baru :  [[0.3088304, 0.0889504], [0.181204, 0.3989032]]\n",
      "Epoch  3\n",
      "Matrix w baru :  [[-0.025298240000000027, 0.10662976000000002], [0.14770157696000003, 0.404693287168]]\n",
      "Epoch  4\n",
      "Matrix w baru :  [[0.45577195744000004, -0.13982421056000005], [0.5699092010662399, 0.1396532347793919]]\n",
      "Epoch  5\n",
      "Matrix w baru :  [[2.0507762110464003, 0.006050020966399838], [2.4578369401077103, -1.1730885605497776]]\n",
      "Epoch  6\n",
      "Matrix w baru :  [[-18.338138490500718, 1.9000707558301717], [-22.662827902337508, 12.885173159251494]]\n",
      "Epoch  7\n",
      "Matrix w baru :  [[323.37672210904066, -30.458043604471094], [399.229063211484, -222.97060344700424]]\n",
      "Epoch  8\n",
      "Matrix w baru :  [[-9631.948828350425, 911.6846770207978], [-11891.087822133319, 6648.224447289701]]\n",
      "Epoch  9\n",
      "Matrix w baru :  [[449391.0381355173, -42529.41469108233], [554795.156629452, -310170.76461274823]]\n",
      "Epoch  10\n",
      "Matrix w baru :  [[-30972475.399237975, 2931178.312024085], [-38237029.27885847, 21377292.181075215]]\n"
     ]
    }
   ],
   "source": [
    "# mengambil setiap kolom data\n",
    "keys = list(data.keys())\n",
    "\n",
    "# 1. perulangan utk control epoch\n",
    "for epoch in range (maxEpoch):\n",
    "    \n",
    "    # 2. perulangan pembelajaran setiap baris data\n",
    "    print('Epoch ',(epoch+1))\n",
    "    for i in range(len(data['x1'])):\n",
    "        \n",
    "        # 3. perulangan matrix bobot\n",
    "        min = float('inf')\n",
    "        index = -1\n",
    "        \n",
    "        # perulangan control setiap baris dalam w\n",
    "        for j in range(len(w)):\n",
    "            jarak = 0\n",
    "            \n",
    "            # control kolom dalam w\n",
    "            for k in range(len(w[j])):\n",
    "                jarak += (w[j][k] - data[keys[k]][i])**2\n",
    "            \n",
    "            #set minimum yg baru dianggap cluster terdekat\n",
    "            if jarak<min:\n",
    "                min = jarak\n",
    "                index = j\n",
    "        \n",
    "        # update bobot w sesuai index terkecil\n",
    "        for k in range(len(w[index])):\n",
    "            w[index][k] += alpha * (data[keys[k]][i] - w[index][k])\n",
    "        \n",
    "    #update alpha\n",
    "    alpha += penguranganAlpha\n",
    "    \n",
    "    print('Matrix w baru : ', w)"
   ]
  }
 ],
 "metadata": {
  "kernelspec": {
   "display_name": "DIP",
   "language": "python",
   "name": "python3"
  },
  "language_info": {
   "codemirror_mode": {
    "name": "ipython",
    "version": 3
   },
   "file_extension": ".py",
   "mimetype": "text/x-python",
   "name": "python",
   "nbconvert_exporter": "python",
   "pygments_lexer": "ipython3",
   "version": "3.10.13"
  }
 },
 "nbformat": 4,
 "nbformat_minor": 5
}
