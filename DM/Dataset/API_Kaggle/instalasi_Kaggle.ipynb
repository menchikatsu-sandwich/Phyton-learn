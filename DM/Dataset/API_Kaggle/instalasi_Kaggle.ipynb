{
 "cells": [
  {
   "cell_type": "code",
   "execution_count": 2,
   "id": "039bcf81",
   "metadata": {},
   "outputs": [
    {
     "name": "stdout",
     "output_type": "stream",
     "text": [
      "Requirement already satisfied: kaggle in c:\\users\\santo\\anaconda3\\envs\\dip\\lib\\site-packages (1.7.4.5)\n",
      "Requirement already satisfied: bleach in c:\\users\\santo\\anaconda3\\envs\\dip\\lib\\site-packages (from kaggle) (6.2.0)\n",
      "Requirement already satisfied: certifi>=14.05.14 in c:\\users\\santo\\anaconda3\\envs\\dip\\lib\\site-packages (from kaggle) (2025.1.31)\n",
      "Requirement already satisfied: charset-normalizer in c:\\users\\santo\\anaconda3\\envs\\dip\\lib\\site-packages (from kaggle) (3.4.1)\n",
      "Requirement already satisfied: idna in c:\\users\\santo\\anaconda3\\envs\\dip\\lib\\site-packages (from kaggle) (3.10)\n",
      "Requirement already satisfied: protobuf in c:\\users\\santo\\anaconda3\\envs\\dip\\lib\\site-packages (from kaggle) (3.19.6)\n",
      "Requirement already satisfied: python-dateutil>=2.5.3 in c:\\users\\santo\\anaconda3\\envs\\dip\\lib\\site-packages (from kaggle) (2.9.0.post0)\n",
      "Requirement already satisfied: python-slugify in c:\\users\\santo\\anaconda3\\envs\\dip\\lib\\site-packages (from kaggle) (8.0.4)\n",
      "Requirement already satisfied: requests in c:\\users\\santo\\anaconda3\\envs\\dip\\lib\\site-packages (from kaggle) (2.32.3)\n",
      "Requirement already satisfied: setuptools>=21.0.0 in c:\\users\\santo\\anaconda3\\envs\\dip\\lib\\site-packages (from kaggle) (75.8.0)\n",
      "Requirement already satisfied: six>=1.10 in c:\\users\\santo\\anaconda3\\envs\\dip\\lib\\site-packages (from kaggle) (1.17.0)\n",
      "Requirement already satisfied: text-unidecode in c:\\users\\santo\\anaconda3\\envs\\dip\\lib\\site-packages (from kaggle) (1.3)\n",
      "Requirement already satisfied: tqdm in c:\\users\\santo\\anaconda3\\envs\\dip\\lib\\site-packages (from kaggle) (4.67.1)\n",
      "Requirement already satisfied: urllib3>=1.15.1 in c:\\users\\santo\\anaconda3\\envs\\dip\\lib\\site-packages (from kaggle) (2.3.0)\n",
      "Requirement already satisfied: webencodings in c:\\users\\santo\\anaconda3\\envs\\dip\\lib\\site-packages (from kaggle) (0.5.1)\n",
      "Requirement already satisfied: colorama in c:\\users\\santo\\anaconda3\\envs\\dip\\lib\\site-packages (from tqdm->kaggle) (0.4.6)\n",
      "Note: you may need to restart the kernel to use updated packages.\n"
     ]
    }
   ],
   "source": [
    "%pip install kaggle"
   ]
  },
  {
   "cell_type": "code",
   "execution_count": 1,
   "id": "71418eeb",
   "metadata": {},
   "outputs": [
    {
     "name": "stdout",
     "output_type": "stream",
     "text": [
      "ref                                                             title                                                     size  lastUpdated                 downloadCount  voteCount  usabilityRating  \n",
      "--------------------------------------------------------------  --------------------------------------------------  ----------  --------------------------  -------------  ---------  ---------------  \n",
      "prathamtripathi/drug-classification                             Drug Classification                                       1720  2020-08-14 17:18:56.667000          49073        397  1.0              \n",
      "mexwell/drug-consumption-classification                         💊 Drug Consumption Classification                        57662  2024-03-28 15:02:22                  5245         77  1.0              \n",
      "danofer/usp-drug-classification                                 USP Drug Classification                                  26614  2018-07-31 14:34:34                  1970         57  1.0              \n",
      "samiraalipour/genomics-of-drug-sensitivity-in-cancer-gdsc       Genomics of Drug Sensitivity in Cancer (GDSC)         15094344  2024-08-13 18:19:33.117000           2987        101  1.0              \n",
      "lykin22/drug-data                                               Drug Type and Classification                              1728  2021-04-19 14:25:17.197000            335          9  1.0              \n",
      "haithemhermessi/drug-related-deaths-estimation                  Drug Related Death Classification                       210998  2020-07-17 19:50:06.763000            844         17  0.88235295       \n",
      "artemcheremuhin/multilabel-classification-drug                  Multilabel Classification Drug                           70424  2025-02-14 04:35:16.273000             37          2  0.64705884       \n",
      "milanzdravkovic/pharma-sales-data                               Pharma sales data                                       360706  2020-01-05 18:14:22.033000          47330        314  0.9117647        \n",
      "abdallahprogrammer/dataset-for-drug-classification-project      Dataset For Drug Classification Project                   1728  2024-05-13 19:27:51.857000            161         17  0.3529412        \n",
      "mohneesh7/indian-medicine-data                                  Indian Medicine Data                                  18681848  2023-08-20 15:40:03.997000           3726         57  1.0              \n",
      "jessicali9530/kuc-hackathon-winter-2018                         UCI ML Drug Review dataset                            42628915  2018-11-12 19:44:19                 28432        314  0.88235295       \n",
      "shahriarkabir/drug-discovery-virtual-screening-dataset          Drug Discovery Virtual Screening Dataset                203807  2025-07-18 08:43:43.837000            826         33  1.0              \n",
      "pratyushpuri/drug-labels-and-side-effects-dataset-1400-records  Drug Labels & Side Effects Dataset | 1400+ Records       51886  2025-08-02 05:32:25.867000            665         27  1.0              \n",
      "pacificrm/skindiseasedataset                                    Skin Disease Dataset                                1460921116  2024-11-23 11:11:23.487000           4155         45  1.0              \n",
      "rouzbeh/introds                                                 IntroDS                                                   2564  2023-09-07 16:40:48                  1485         47  0.64705884       \n",
      "imtkaggleteam/medical-information-dataset                       Medical Information Dataset                          198508809  2025-07-15 16:32:34.703000            736         35  0.88235295       \n",
      "mamun1113/doctors-handwritten-prescription-bd-dataset           Doctor’s Handwritten Prescription BD dataset          19997776  2024-05-10 19:01:49                  3566         40  1.0              \n",
      "obeykhadija/drug-consumptions-uci                               Drug Consumptions (UCI)                                 114339  2021-09-26 12:54:03                  4189         36  0.7058824        \n",
      "shahir/protein-data-set                                         Structural Protein Sequences                          28782775  2018-02-03 11:38:56.537000          13928        247  0.85294116       \n",
      "rabieelkharoua/patient-ratings-identifying-best-drugs           🌟Patient Ratings: Identifying Best Drugs!             44019689  2024-05-13 19:30:20.703000           1192         43  1.0              \n"
     ]
    }
   ],
   "source": [
    "!kaggle datasets list -s \"drug classification\""
   ]
  },
  {
   "cell_type": "code",
   "execution_count": 1,
   "id": "69167839",
   "metadata": {},
   "outputs": [
    {
     "name": "stdout",
     "output_type": "stream",
     "text": [
      "Dataset URL: https://www.kaggle.com/datasets/mdismielhossenabir/sentiment-analysis\n",
      "License(s): MIT\n",
      "Downloading sentiment-analysis.zip to c:\\Users\\santo\\Documents\\coding\\PY\\DM\\Dataset\\API_Kaggle\n",
      "\n"
     ]
    },
    {
     "name": "stderr",
     "output_type": "stream",
     "text": [
      "\n",
      "  0%|          | 0.00/14.3k [00:00<?, ?B/s]\n",
      "100%|██████████| 14.3k/14.3k [00:00<?, ?B/s]\n"
     ]
    }
   ],
   "source": [
    "!kaggle datasets download mdismielhossenabir/sentiment-analysis"
   ]
  },
  {
   "cell_type": "code",
   "execution_count": 2,
   "id": "5136ccd6",
   "metadata": {},
   "outputs": [],
   "source": [
    "import zipfile\n",
    "\n",
    "z = zipfile.ZipFile(\"sentiment-analysis.zip\")\n",
    "z.extractall()"
   ]
  }
 ],
 "metadata": {
  "kernelspec": {
   "display_name": "DIP",
   "language": "python",
   "name": "python3"
  },
  "language_info": {
   "codemirror_mode": {
    "name": "ipython",
    "version": 3
   },
   "file_extension": ".py",
   "mimetype": "text/x-python",
   "name": "python",
   "nbconvert_exporter": "python",
   "pygments_lexer": "ipython3",
   "version": "3.10.13"
  }
 },
 "nbformat": 4,
 "nbformat_minor": 5
}
