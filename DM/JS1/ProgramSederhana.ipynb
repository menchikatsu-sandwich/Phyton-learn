{
 "cells": [
  {
   "cell_type": "code",
   "execution_count": 1,
   "id": "a6ee3feb",
   "metadata": {},
   "outputs": [],
   "source": [
    "bilangan = int(input(\"Masukkan nilai bilangan bulat = \"))\n",
    "if (bilangan%2)==0:\n",
    "    print(\"Bilangan genap\")"
   ]
  },
  {
   "cell_type": "code",
   "execution_count": 2,
   "id": "12bcfda6",
   "metadata": {},
   "outputs": [
    {
     "name": "stdout",
     "output_type": "stream",
     "text": [
      "Bilangan ganjil\n"
     ]
    }
   ],
   "source": [
    "bilangan = int(input(\"Masukkan nilai bilangan bulat = \"))\n",
    "if (bilangan%2)==0:\n",
    "    print(\"Bilangan genap\")\n",
    "else:\n",
    "    print(\"Bilangan ganjil\")"
   ]
  },
  {
   "cell_type": "code",
   "execution_count": 3,
   "id": "6503ed6c",
   "metadata": {},
   "outputs": [
    {
     "name": "stdout",
     "output_type": "stream",
     "text": [
      "Bilangan positif\n"
     ]
    }
   ],
   "source": [
    "bilangan = int(input(\"Masukkan nilai bilangan bulat = \"))\n",
    "if (bilangan>0):\n",
    "    print(\"Bilangan positif\")\n",
    "elif (bilangan<0):\n",
    "    print(\"Bilangan niggatif\")\n",
    "else:\n",
    "    print(\"Nol\")"
   ]
  },
  {
   "cell_type": "code",
   "execution_count": 4,
   "id": "ba8eac95",
   "metadata": {},
   "outputs": [
    {
     "name": "stdout",
     "output_type": "stream",
     "text": [
      "Jumlah =  15\n"
     ]
    }
   ],
   "source": [
    "N = int(input(\"Masukkan banyaknya bilangan = \"))\n",
    "jumlah = 0\n",
    "angka = 1\n",
    "while (angka<=N):\n",
    "    jumlah += angka\n",
    "    angka += 1\n",
    "print(\"Jumlah = \", jumlah)"
   ]
  },
  {
   "cell_type": "code",
   "execution_count": 5,
   "id": "9501205b",
   "metadata": {},
   "outputs": [
    {
     "name": "stdout",
     "output_type": "stream",
     "text": [
      "apel\n",
      "pisang\n",
      "cherry\n"
     ]
    }
   ],
   "source": [
    "buah = [\"apel\",\"pisang\",\"cherry\"]\n",
    "for x in buah:\n",
    "    print(x)"
   ]
  },
  {
   "cell_type": "code",
   "execution_count": 6,
   "id": "349963b2",
   "metadata": {},
   "outputs": [
    {
     "name": "stdout",
     "output_type": "stream",
     "text": [
      "Perulangan ke- 5\n",
      "Perulangan ke- 8\n",
      "Perulangan ke- 11\n",
      "Perulangan ke- 14\n"
     ]
    }
   ],
   "source": [
    "for x in range(5, 15, 3):\n",
    "    print(\"Perulangan ke-\", x)"
   ]
  },
  {
   "cell_type": "code",
   "execution_count": 7,
   "id": "68ff7483",
   "metadata": {},
   "outputs": [
    {
     "name": "stdout",
     "output_type": "stream",
     "text": [
      "Hasil Penjumlahan 0 + 0  =  0\n",
      "Hasil Penjumlahan 0 + 1  =  1\n",
      "Hasil Penjumlahan 0 + 2  =  2\n",
      "Hasil Penjumlahan 0 + 3  =  3\n",
      "Hasil Penjumlahan 1 + 0  =  1\n",
      "Hasil Penjumlahan 1 + 1  =  2\n",
      "Hasil Penjumlahan 1 + 2  =  3\n",
      "Hasil Penjumlahan 1 + 3  =  4\n"
     ]
    }
   ],
   "source": [
    "for i in range(2):\n",
    "    for j in range(4):\n",
    "        print(\"Hasil Penjumlahan\",i,\"+\",j,\" = \",i+j)"
   ]
  },
  {
   "cell_type": "code",
   "execution_count": 8,
   "id": "9ffe7a90",
   "metadata": {},
   "outputs": [
    {
     "name": "stdout",
     "output_type": "stream",
     "text": [
      "Luas Segitiga =  12.5\n"
     ]
    }
   ],
   "source": [
    "def Hitung_Luas_Segitiga(a,t):\n",
    "    l = (a * t)/2\n",
    "    print(\"Luas Segitiga = \",l)\n",
    "\n",
    "alas = float(input(\"Masukkan alas = \"))\n",
    "tinggi = float(input(\"Masukkan tinggi = \"))\n",
    "Hitung_Luas_Segitiga(alas, tinggi)"
   ]
  },
  {
   "cell_type": "code",
   "execution_count": 9,
   "id": "2f1ee6e8",
   "metadata": {},
   "outputs": [
    {
     "name": "stdout",
     "output_type": "stream",
     "text": [
      "Luas segitiga =  12.5\n"
     ]
    }
   ],
   "source": [
    "def Hitung_Luas_Segitiga(a,t):\n",
    "    l = (a * t)/2\n",
    "    return l\n",
    "\n",
    "alas = float(input(\"Masukkan alas = \"))\n",
    "tinggi = float(input(\"Masukkan tinggi = \"))\n",
    "print(\"Luas segitiga = \",Hitung_Luas_Segitiga(alas, tinggi))"
   ]
  },
  {
   "cell_type": "code",
   "execution_count": 10,
   "id": "fd2b5661",
   "metadata": {},
   "outputs": [
    {
     "name": "stdout",
     "output_type": "stream",
     "text": [
      "0 !=  1\n",
      "1 !=  1\n",
      "2 !=  2\n",
      "3 !=  6\n",
      "4 !=  24\n"
     ]
    }
   ],
   "source": [
    "def faktorial(n):\n",
    "    if n <= 1:\n",
    "        return 1\n",
    "    else:\n",
    "        return n * faktorial(n-1)\n",
    "i = 0\n",
    "n = int(input(\"MASUKKAN BILANGAN = \"))\n",
    "\n",
    "while (i<n):\n",
    "    print(i, \"!= \", faktorial(i))\n",
    "    i+=1"
   ]
  }
 ],
 "metadata": {
  "kernelspec": {
   "display_name": "DIP",
   "language": "python",
   "name": "python3"
  },
  "language_info": {
   "codemirror_mode": {
    "name": "ipython",
    "version": 3
   },
   "file_extension": ".py",
   "mimetype": "text/x-python",
   "name": "python",
   "nbconvert_exporter": "python",
   "pygments_lexer": "ipython3",
   "version": "3.10.13"
  }
 },
 "nbformat": 4,
 "nbformat_minor": 5
}
