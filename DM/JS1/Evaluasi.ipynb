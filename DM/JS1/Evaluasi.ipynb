{
 "cells": [
  {
   "cell_type": "code",
   "execution_count": null,
   "id": "5d4f4240",
   "metadata": {},
   "outputs": [],
   "source": [
    "# 1. Jelaskan pengertian kecerdasan buatan menurut pendapat Anda!\n",
    "\n",
    "# Kecerdasan buatan (Artificial Intelligence/AI) adalah cabang ilmu komputer yang membuat sistem atau mesin mampu meniru kecerdasan manusia, seperti belajar, berpikir, mengambil keputusan, dan memecahkan masalah."
   ]
  },
  {
   "cell_type": "code",
   "execution_count": null,
   "id": "2e25ce02",
   "metadata": {},
   "outputs": [],
   "source": [
    "# 2. Jelaskan mengapa perkembangan kecerdasan buatan sempat mengalami fase perlambatan!\n",
    "\n",
    "# Harapan terlalu tinggi di awal, tetapi hasil penelitian belum sesuai ekspektasi.\n",
    "# Keterbatasan teknologi (komputasi, memori, dan data).\n",
    "# Minimnya aplikasi nyata yang bisa digunakan secara praktis.\n",
    "# Biaya riset dan pengembangan yang sangat tinggi."
   ]
  },
  {
   "cell_type": "code",
   "execution_count": null,
   "id": "a8d8246d",
   "metadata": {},
   "outputs": [],
   "source": [
    "# 3. Jelaskan karakteristik kecerdasan alami dan kecerdasan buatan yang bisa menjadi keunggulan masing-masing!\n",
    "\n",
    "# Kecerdasan alami (manusia):\n",
    "# Fleksibel dalam berpikir.\n",
    "# Bisa berimajinasi dan berinovasi.\n",
    "# Mampu memahami konteks dan emosi.\n",
    "\n",
    "# Kecerdasan buatan:\n",
    "# Cepat dan akurat dalam menghitung.\n",
    "# Konsisten tanpa rasa lelah.\n",
    "# Mampu mengolah data dalam jumlah besar."
   ]
  },
  {
   "cell_type": "code",
   "execution_count": null,
   "id": "3eca0142",
   "metadata": {},
   "outputs": [],
   "source": [
    "# 4. Berikan contoh aplikasi yang merupakan implementasi dari lingkup bidang kecerdasan buatan!\n",
    "\n",
    "# Asisten virtual (Siri, Alexa, Google Assistant).\n",
    "# Mobil otonom (self-driving car(Tesla)).\n",
    "# Sistem rekomendasi (Netflix, Spotify, Tokopedia).\n",
    "# Pengenalan wajah (Face Recognition).\n",
    "# Chatbot layanan pelanggan."
   ]
  },
  {
   "cell_type": "code",
   "execution_count": 1,
   "id": "f3e4730c",
   "metadata": {},
   "outputs": [
    {
     "name": "stdout",
     "output_type": "stream",
     "text": [
      "Bilangan terbesar adalah: 8\n"
     ]
    }
   ],
   "source": [
    "# 5. Buatlah program untuk menentukan bilangan terbesar, jika tiga buah bilangan bulat dibaca dari piranti masukan!\n",
    "\n",
    "a = int(input(\"Masukkan bilangan pertama: \"))\n",
    "b = int(input(\"Masukkan bilangan kedua: \"))\n",
    "c = int(input(\"Masukkan bilangan ketiga: \"))\n",
    "\n",
    "terbesar = max(a, b, c)\n",
    "print(\"Bilangan terbesar adalah:\", terbesar)"
   ]
  },
  {
   "cell_type": "code",
   "execution_count": 3,
   "id": "21b7ddda",
   "metadata": {},
   "outputs": [
    {
     "name": "stdout",
     "output_type": "stream",
     "text": [
      "Upah mingguan karyawan adalah Rp 1140000\n"
     ]
    }
   ],
   "source": [
    "# 6. Program menghitung upah mingguan karyawan\n",
    "\n",
    "jam = int(input(\"Masukkan jumlah jam kerja karyawan: \"))\n",
    "upah_normal = 20000\n",
    "upah_lembur = 30000\n",
    "\n",
    "if jam <= 48:\n",
    "    total = jam * upah_normal\n",
    "else:\n",
    "    total = (48 * upah_normal) + ((jam - 48) * upah_lembur)\n",
    "\n",
    "print(\"Upah mingguan karyawan adalah Rp\", total)"
   ]
  },
  {
   "cell_type": "code",
   "execution_count": 6,
   "id": "0a8d753f",
   "metadata": {},
   "outputs": [
    {
     "name": "stdout",
     "output_type": "stream",
     "text": [
      "Jumlah total bilangan genap adalah: 6\n"
     ]
    }
   ],
   "source": [
    "# 7. Program menghitung jumlah nilai bilangan genap saja\n",
    "\n",
    "N = int(input(\"Masukkan jumlah bilangan: \"))\n",
    "total_genap = 0\n",
    "\n",
    "for i in range(N):\n",
    "    bil = int(input(\"Masukkan bilangan ke-{}: \".format(i+1)))\n",
    "    if bil % 2 == 0:\n",
    "        total_genap += bil\n",
    "\n",
    "print(\"Jumlah total bilangan genap adalah:\", total_genap)"
   ]
  },
  {
   "cell_type": "code",
   "execution_count": 7,
   "id": "1571400d",
   "metadata": {},
   "outputs": [
    {
     "name": "stdout",
     "output_type": "stream",
     "text": [
      "Hasil 5^2 = 25\n"
     ]
    }
   ],
   "source": [
    "# 8. Program menghitung perpangkatan\n",
    "\n",
    "a = int(input(\"Masukkan nilai a: \"))\n",
    "n = int(input(\"Masukkan nilai n: \"))\n",
    "\n",
    "hasil = 1\n",
    "for i in range(n):\n",
    "    hasil *= a\n",
    "\n",
    "print(f\"Hasil {a}^{n} = {hasil}\")"
   ]
  },
  {
   "cell_type": "code",
   "execution_count": 8,
   "id": "50b918ee",
   "metadata": {},
   "outputs": [
    {
     "name": "stdout",
     "output_type": "stream",
     "text": [
      "1 adalah bilangan ganjil\n"
     ]
    }
   ],
   "source": [
    "# 9. Program menentukan bilangan genap atau ganjil\n",
    "\n",
    "def cek_genap(n):\n",
    "    return n % 2 == 0\n",
    "\n",
    "n = int(input(\"Masukkan sebuah bilangan: \"))\n",
    "\n",
    "if cek_genap(n):\n",
    "    print(f\"{n} adalah bilangan genap\")\n",
    "else:\n",
    "    print(f\"{n} adalah bilangan ganjil\")"
   ]
  }
 ],
 "metadata": {
  "kernelspec": {
   "display_name": "DIP",
   "language": "python",
   "name": "python3"
  },
  "language_info": {
   "codemirror_mode": {
    "name": "ipython",
    "version": 3
   },
   "file_extension": ".py",
   "mimetype": "text/x-python",
   "name": "python",
   "nbconvert_exporter": "python",
   "pygments_lexer": "ipython3",
   "version": "3.10.13"
  }
 },
 "nbformat": 4,
 "nbformat_minor": 5
}
