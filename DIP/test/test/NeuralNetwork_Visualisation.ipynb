{
 "cells": [
  {
   "cell_type": "code",
   "execution_count": 1,
   "id": "e162dc71",
   "metadata": {},
   "outputs": [],
   "source": [
    "import os\n",
    "os.environ[\"KMP_DUPLICATE_LIB_OK\"] = \"TRUE\"\n",
    "\n",
    "import numpy as np\n",
    "import matplotlib.pyplot as plt\n",
    "from PIL import Image, ImageDraw, ImageOps\n",
    "import tensorflow as tf\n",
    "from tensorflow.keras.models import load_model\n",
    "from tensorflow.keras.datasets import mnist\n",
    "from tensorflow.keras.utils import to_categorical\n",
    "import os\n",
    "\n",
    "# Load or train model\n",
    "def create_and_train_model():\n",
    "    (x_train, y_train), (x_test, y_test) = mnist.load_data()\n",
    "    x_train = x_train.reshape((60000, 28, 28, 1)).astype('float32') / 255\n",
    "    x_test = x_test.reshape((10000, 28, 28, 1)).astype('float32') / 255\n",
    "    y_train = to_categorical(y_train)\n",
    "    y_test = to_categorical(y_test)\n",
    "\n",
    "    model = tf.keras.models.Sequential([\n",
    "        tf.keras.layers.Conv2D(32, (3,3), activation='relu', input_shape=(28,28,1)),\n",
    "        tf.keras.layers.MaxPooling2D((2,2)),\n",
    "        tf.keras.layers.Flatten(),\n",
    "        tf.keras.layers.Dense(128, activation='relu'),\n",
    "        tf.keras.layers.Dense(10, activation='softmax')\n",
    "    ])\n",
    "    model.compile(optimizer='adam', loss='categorical_crossentropy', metrics=['accuracy'])\n",
    "    model.fit(x_train, y_train, epochs=3, validation_data=(x_test, y_test))\n",
    "    model.save(\"mnist_model.h5\")\n",
    "    return model\n",
    "\n",
    "model = load_model(\"mnist_model.h5\") if os.path.exists(\"mnist_model.h5\") else create_and_train_model()"
   ]
  },
  {
   "cell_type": "code",
   "execution_count": 4,
   "id": "7d23e217",
   "metadata": {},
   "outputs": [
    {
     "data": {
      "image/png": "[encoded data removed]",
      "text/plain": [
       "<Figure size 640x480 with 1 Axes>"
      ]
     },
     "metadata": {},
     "output_type": "display_data"
    }
   ],
   "source": [
    "canvas_size = 280\n",
    "image = Image.new(\"L\", (canvas_size, canvas_size), 255)\n",
    "draw = ImageDraw.Draw(image)\n",
    "\n",
    "# Gambar angka 4\n",
    "draw.line([180, 50, 100, 170], fill=0, width=20)    # Garis miring kiri bawah\n",
    "draw.line([180, 50, 180, 240], fill=0, width=20)    # Garis vertikal kanan\n",
    "draw.line([100, 170, 200, 170], fill=0, width=20)   # Garis horizontal tengah\n",
    "\n",
    "plt.imshow(image, cmap='gray')\n",
    "plt.title(\"Angka Simulasi\")\n",
    "plt.axis(\"off\")\n",
    "plt.show()"
   ]
  },
  {
   "cell_type": "code",
   "execution_count": 5,
   "id": "b6e0ad17",
   "metadata": {},
   "outputs": [
    {
     "name": "stdout",
     "output_type": "stream",
     "text": [
      "1/1 [==============================] - 0s 13ms/step\n"
     ]
    },
    {
     "data": {
      "image/png": "[encoded data removed]",
      "text/plain": [
       "<Figure size 1000x400 with 2 Axes>"
      ]
     },
     "metadata": {},
     "output_type": "display_data"
    }
   ],
   "source": [
    "# Preprocessing dan prediksi\n",
    "img_resized = image.resize((28, 28), Image.LANCZOS)\n",
    "img_array = ImageOps.invert(img_resized)\n",
    "img_array = np.array(img_array).astype('float32') / 255\n",
    "img_array = img_array.reshape(1, 28, 28, 1)\n",
    "\n",
    "predictions = model.predict(img_array)[0]\n",
    "predicted_digit = np.argmax(predictions)\n",
    "\n",
    "plt.figure(figsize=(10,4))\n",
    "plt.subplot(1,2,1)\n",
    "plt.imshow(img_array.reshape(28, 28), cmap='gray')\n",
    "plt.title(f\"Prediksi: {predicted_digit}\")\n",
    "plt.axis(\"off\")\n",
    "\n",
    "plt.subplot(1,2,2)\n",
    "plt.bar(range(10), predictions, color='skyblue')\n",
    "plt.title(\"Confidence Level\")\n",
    "plt.xlabel(\"Digit\")\n",
    "plt.ylabel(\"Probability\")\n",
    "plt.tight_layout()\n",
    "plt.show()\n"
   ]
  },
  {
   "cell_type": "code",
   "execution_count": null,
   "id": "819e9041",
   "metadata": {},
   "outputs": [],
   "source": [
    "import matplotlib.animation as animation\n",
    "import matplotlib.patches as patches\n",
    "\n",
    "fig, ax = plt.subplots(figsize=(12, 6))\n",
    "ax.set_xlim(0, 200)\n",
    "ax.set_ylim(-100, 100)\n",
    "ax.axis('off')\n",
    "\n",
    "# Dummy layer data (bisa dihubungkan ke real model nanti)\n",
    "input_data = img_array.reshape(28, 28)[:10, :10]\n",
    "conv_data = np.random.rand(24, 24)\n",
    "dense_data = np.random.rand(128)\n",
    "output_data = predictions\n",
    "\n",
    "positions = {\n",
    "    \"input\": (5, 80),\n",
    "    \"conv\": (50, 60),\n",
    "    \"dense\": (100, 40),\n",
    "    \"output\": (150, 20),\n",
    "}\n",
    "\n",
    "def draw_layer(ax, position, size, data, cmap='Blues'):\n",
    "    rects = []\n",
    "    rows, cols = data.shape if data.ndim == 2 else (1, len(data))\n",
    "    for i in range(rows):\n",
    "        for j in range(cols):\n",
    "            value = data[i][j] if data.ndim == 2 else data[j]\n",
    "            color = plt.colormaps[cmap](value) if value > 0 else (1,1,1,1)\n",
    "            rect = patches.Rectangle(\n",
    "                (position[0]+j*size, position[1]-i*size), size, size,\n",
    "                linewidth=0.3, edgecolor='gray', facecolor=color\n",
    "            )\n",
    "            rect.set_visible(False)\n",
    "            ax.add_patch(rect)\n",
    "            rects.append(rect)\n",
    "    return rects\n",
    "\n",
    "patches_input = draw_layer(ax, positions[\"input\"], 1.5, input_data, cmap='Blues')\n",
    "patches_conv = draw_layer(ax, positions[\"conv\"], 1.2, conv_data, cmap='Purples')\n",
    "patches_dense = draw_layer(ax, positions[\"dense\"], 0.3, dense_data, cmap='Greens')\n",
    "patches_output = draw_layer(ax, positions[\"output\"], 1.5, output_data, cmap='Reds')\n",
    "\n",
    "# Panah antar layer\n",
    "def draw_arrow(start, end):\n",
    "    ax.annotate('', xy=end, xytext=start, arrowprops=dict(facecolor='black', arrowstyle='->'))\n",
    "\n",
    "draw_arrow((45, 70), (50, 70))\n",
    "draw_arrow((90, 50), (100, 50))\n",
    "draw_arrow((140, 30), (150, 30))\n",
    "\n",
    "# Judul layer\n",
    "ax.text(5, 35, 'Input Layer', fontsize=10)\n",
    "ax.text(50, 20, 'Conv Layer', fontsize=10)\n",
    "ax.text(100, 0, 'Dense Layer', fontsize=10)\n",
    "ax.text(150, -20, 'Output Layer', fontsize=10)\n",
    "\n",
    "def animate(frame):\n",
    "    if frame < len(patches_input):\n",
    "        patches_input[frame].set_visible(True)\n",
    "        return [patches_input[frame]]\n",
    "    elif frame < len(patches_input) + len(patches_conv):\n",
    "        idx = frame - len(patches_input)\n",
    "        patches_conv[idx].set_visible(True)\n",
    "        return [patches_conv[idx]]\n",
    "    elif frame < len(patches_input) + len(patches_conv) + len(patches_dense):\n",
    "        idx = frame - len(patches_input) - len(patches_conv)\n",
    "        patches_dense[idx].set_visible(True)\n",
    "        return [patches_dense[idx]]\n",
    "    elif frame < len(patches_input) + len(patches_conv) + len(patches_dense) + len(patches_output):\n",
    "        idx = frame - len(patches_input) - len(patches_conv) - len(patches_dense)\n",
    "        patches_output[idx].set_visible(True)\n",
    "        return [patches_output[idx]]\n",
    "    return []\n",
    "\n",
    "total_frames = len(patches_input) + len(patches_conv) + len(patches_dense) + len(patches_output)\n",
    "ani = animation.FuncAnimation(fig, animate, frames=total_frames, interval=10, blit=True, repeat=False)\n",
    "plt.title(\"Animasi Proses Jaringan Saraf\", fontsize=14)\n",
    "# plt.show()  # HAPUS atau KOMENTARI baris ini di Jupyter\n",
    "\n",
    "from IPython.display import HTML\n",
    "HTML(ani.to_jshtml())\n",
    "# atau:\n",
    "# HTML(ani.to_html5_video())"
   ]
  }
 ],
 "metadata": {
  "kernelspec": {
   "display_name": "DIP",
   "language": "python",
   "name": "python3"
  },
  "language_info": {
   "codemirror_mode": {
    "name": "ipython",
    "version": 3
   },
   "file_extension": ".py",
   "mimetype": "text/x-python",
   "name": "python",
   "nbconvert_exporter": "python",
   "pygments_lexer": "ipython3",
   "version": "3.10.13"
  }
 },
 "nbformat": 4,
 "nbformat_minor": 5
}
