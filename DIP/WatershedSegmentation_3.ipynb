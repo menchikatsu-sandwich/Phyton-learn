{
 "cells": [
  {
   "cell_type": "code",
   "execution_count": 18,
   "id": "2c806ab4-faff-4dc6-83e0-0913598313d5",
   "metadata": {},
   "outputs": [],
   "source": [
    "import cv2\n",
    "import numpy as np\n",
    "import matplotlib.pyplot as plt"
   ]
  },
  {
   "cell_type": "code",
   "execution_count": 19,
   "id": "5e43ed26-d7cd-4b1d-99cb-898425c1e78e",
   "metadata": {},
   "outputs": [],
   "source": [
    "landscape = cv2.imread(\"img/natural2.jpg\")"
   ]
  },
  {
   "cell_type": "code",
   "execution_count": 20,
   "id": "e4385d9c-cea3-46cd-82c7-826123ff80c7",
   "metadata": {},
   "outputs": [],
   "source": [
    "landscape_copy = np.copy(landscape)"
   ]
  },
  {
   "cell_type": "code",
   "execution_count": 21,
   "id": "7866b7fe-7cbd-41a5-ba27-747d9f11d8e1",
   "metadata": {},
   "outputs": [],
   "source": [
    "#plt.imshow(landscape)"
   ]
  },
  {
   "cell_type": "code",
   "execution_count": 22,
   "id": "d531c520-d652-46cc-9662-199c3e229ca0",
   "metadata": {},
   "outputs": [
    {
     "data": {
      "text/plain": [
       "(384, 612)"
      ]
     },
     "execution_count": 22,
     "metadata": {},
     "output_type": "execute_result"
    }
   ],
   "source": [
    "#landscape.shape menghasilkan data dalam 3 dimensi \n",
    "#(tinggi, lebar, dan channel)\n",
    "#jadi untuk menampilkan hanya dimensi tinggi dan lebar gunakan \n",
    "#.shape[:2]\n",
    "landscape.shape[:2]"
   ]
  },
  {
   "cell_type": "code",
   "execution_count": 23,
   "id": "d3842e17-4f54-44e0-9656-f4707869ae44",
   "metadata": {},
   "outputs": [],
   "source": [
    "marker_image = np.zeros(landscape.shape[:2],dtype=np.int32)"
   ]
  },
  {
   "cell_type": "code",
   "execution_count": 24,
   "id": "5c70fce7-907d-4bcc-9e17-d66039a3f713",
   "metadata": {},
   "outputs": [],
   "source": [
    "segments = np.zeros(landscape.shape,dtype=np.uint8)"
   ]
  },
  {
   "cell_type": "code",
   "execution_count": 25,
   "id": "3fabc976-cb1f-4a43-a901-22c27308d3fe",
   "metadata": {},
   "outputs": [
    {
     "data": {
      "text/plain": [
       "(384, 612)"
      ]
     },
     "execution_count": 25,
     "metadata": {},
     "output_type": "execute_result"
    }
   ],
   "source": [
    "marker_image.shape"
   ]
  },
  {
   "cell_type": "code",
   "execution_count": 26,
   "id": "69602d16-c97a-4685-b665-32050db1e4d3",
   "metadata": {},
   "outputs": [
    {
     "data": {
      "text/plain": [
       "(384, 612, 3)"
      ]
     },
     "execution_count": 26,
     "metadata": {},
     "output_type": "execute_result"
    }
   ],
   "source": [
    "segments.shape"
   ]
  },
  {
   "cell_type": "code",
   "execution_count": 27,
   "id": "e9289cdc-8a4e-43c7-b6ed-db922ae5c401",
   "metadata": {},
   "outputs": [],
   "source": [
    "#referensi color maps: https://matplotlib.org/stable/gallery/color/colormap_reference.html\n",
    "from matplotlib import cm \n",
    "#cm stand for \"color map\""
   ]
  },
  {
   "cell_type": "code",
   "execution_count": 28,
   "id": "18358b0a-3b90-42d5-9e5d-a50e9430c0dd",
   "metadata": {},
   "outputs": [
    {
     "data": {
      "text/plain": [
       "(1.0, 0.4980392156862745, 0.054901960784313725, 1.0)"
      ]
     },
     "execution_count": 28,
     "metadata": {},
     "output_type": "execute_result"
    }
   ],
   "source": [
    "cm.tab10(1)"
   ]
  },
  {
   "cell_type": "code",
   "execution_count": 29,
   "id": "0c906f44-4b6b-4fc7-8d21-31251415402f",
   "metadata": {},
   "outputs": [],
   "source": [
    "def create_rgb(i):\n",
    "    return tuple(np.array(cm.tab10(i)[:3])*255)"
   ]
  },
  {
   "cell_type": "code",
   "execution_count": 30,
   "id": "de3c66fe-5cfc-41bb-9e39-3b99d6001d61",
   "metadata": {},
   "outputs": [],
   "source": [
    "colors = []\n",
    "for i in range(10):\n",
    "    colors.append(create_rgb(i))"
   ]
  },
  {
   "cell_type": "code",
   "execution_count": 31,
   "id": "efaaa8c1-5b6f-4b03-bcd8-42d50e220127",
   "metadata": {},
   "outputs": [
    {
     "data": {
      "text/plain": [
       "[(31.0, 119.0, 180.0),\n",
       " (255.0, 127.0, 14.0),\n",
       " (44.0, 160.0, 44.0),\n",
       " (214.0, 39.0, 40.0),\n",
       " (148.0, 103.0, 189.0),\n",
       " (140.0, 86.0, 75.0),\n",
       " (227.0, 119.0, 194.0),\n",
       " (127.0, 127.0, 127.0),\n",
       " (188.0, 189.0, 34.0),\n",
       " (23.0, 190.0, 207.0)]"
      ]
     },
     "execution_count": 31,
     "metadata": {},
     "output_type": "execute_result"
    }
   ],
   "source": [
    "colors"
   ]
  },
  {
   "cell_type": "code",
   "execution_count": 32,
   "id": "60c44162-dfac-4c5d-8c49-5eb7b4a2a6db",
   "metadata": {},
   "outputs": [],
   "source": [
    "#Global Variabel\n",
    "#Color Choice\n",
    "n_markers = 10 #0-9\n",
    "current_marker = 1\n",
    "#Marker Updated by Watershed\n",
    "marks_updated = False"
   ]
  },
  {
   "cell_type": "code",
   "execution_count": 33,
   "id": "c271f9f2-7129-405c-9e25-163740860d2e",
   "metadata": {},
   "outputs": [],
   "source": [
    "def mouse_callback(event, x, y, flags, param):\n",
    "    global marks_updated\n",
    "    \n",
    "    if event == cv2.EVENT_LBUTTONDOWN:\n",
    "        #Markers Passed to the Watershed Algorithm\n",
    "        cv2.circle(marker_image,(x,y),10,(current_marker),-1)\n",
    "        #User sees on the landscape Image\n",
    "        cv2.circle(landscape_copy,(x,y),10,\n",
    "                   colors[current_marker],-1)\n",
    "        marks_updated = True"
   ]
  },
  {
   "cell_type": "code",
   "execution_count": 34,
   "id": "fb0073bc-8b71-4305-8977-7da8b5ef0964",
   "metadata": {},
   "outputs": [],
   "source": [
    "#While True\n",
    "cv2.namedWindow(\"Landscape Image\")\n",
    "cv2.setMouseCallback(\"Landscape Image\", mouse_callback)\n",
    "while True:\n",
    "    cv2.imshow(\"Watershed Segments\", segments)\n",
    "    cv2.imshow(\"Landscape Image\",landscape_copy)\n",
    "    #Close All Windows\n",
    "    k = cv2.waitKey(1)\n",
    "    #break when q key pressed\n",
    "    if k == ord('q'):\n",
    "        cv2.destroyWindow('Landscape Image')\n",
    "        cv2.destroyWindow('Watershed Segments') \n",
    "        cv2.waitKey(0) \n",
    "        break\n",
    "    #Clearing all the colors -> Press c key\n",
    "    elif k == ord('c'):\n",
    "        landscape_copy = landscape.copy()\n",
    "        marker_image = np.zeros(landscape.shape[:2], \n",
    "                                dtype=np.int32)\n",
    "        segments = np.zeros(landscape.shape, dtype=np.uint8)\n",
    "    #Update Color Choice\n",
    "    elif k > 0 and chr(k).isdigit():\n",
    "        current_marker = int(chr(k))\n",
    "    #Update the Markings\n",
    "    if marks_updated:\n",
    "       marker_image_copy = marker_image.copy()\n",
    "       cv2.watershed(landscape, marker_image_copy)\n",
    "       segments = np.zeros(landscape.shape, dtype = np.uint8)\n",
    "       for color_ind in range(n_markers):\n",
    "           segments[marker_image_copy==(\n",
    "               color_ind)]=colors[color_ind]\n",
    "\n",
    "#Quit windows alternate           \n",
    "cv2.destroyAllWindows()"
   ]
  },
  {
   "cell_type": "code",
   "execution_count": null,
   "id": "f1107a78-e8f2-493c-bea5-204bd1d25447",
   "metadata": {},
   "outputs": [],
   "source": []
  }
 ],
 "metadata": {
  "kernelspec": {
   "display_name": "DIP",
   "language": "python",
   "name": "python3"
  },
  "language_info": {
   "codemirror_mode": {
    "name": "ipython",
    "version": 3
   },
   "file_extension": ".py",
   "mimetype": "text/x-python",
   "name": "python",
   "nbconvert_exporter": "python",
   "pygments_lexer": "ipython3",
   "version": "3.10.13"
  }
 },
 "nbformat": 4,
 "nbformat_minor": 5
}
