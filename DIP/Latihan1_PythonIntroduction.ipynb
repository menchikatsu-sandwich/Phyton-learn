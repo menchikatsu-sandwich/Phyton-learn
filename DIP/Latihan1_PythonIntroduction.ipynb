{
 "cells": [
  {
   "cell_type": "code",
   "execution_count": 5,
   "metadata": {},
   "outputs": [
    {
     "name": "stdout",
     "output_type": "stream",
     "text": [
      "Computing squares of numbers between 0 and 9\n",
      "0\n",
      "1\n",
      "4\n",
      "9\n",
      "16\n",
      "25\n",
      "36\n",
      "49\n",
      "64\n",
      "81\n",
      "Complete the task . . .\n"
     ]
    }
   ],
   "source": [
    "''' UJI COBA 1\n",
    "Buatlah program yang menghitung kuadrat dari bilangan 0 sampai 9 '''\n",
    "# Program untuk menghitung kuadrat dari bilangan 0 sampai 9\n",
    "\n",
    "print('Computing squares of numbers between 0 and 9')\n",
    "for i in range(10):\n",
    "    print(i*i)\n",
    "print('Complete the task . . .')"
   ]
  },
  {
   "cell_type": "code",
   "execution_count": 6,
   "metadata": {},
   "outputs": [
    {
     "name": "stdout",
     "output_type": "stream",
     "text": [
      "1\n",
      "2\n",
      "3\n",
      "4\n"
     ]
    }
   ],
   "source": [
    "# 1 start, <5 stop, 1 lompatan\n",
    "\n",
    "for i in range(1,5):\n",
    "    print(i)"
   ]
  },
  {
   "cell_type": "code",
   "execution_count": 7,
   "metadata": {},
   "outputs": [
    {
     "name": "stdout",
     "output_type": "stream",
     "text": [
      "name John\n",
      "age 30\n",
      "city New York\n"
     ]
    }
   ],
   "source": [
    "# key itu nama, age, city\n",
    "# person[key] itu John, 30, New York\n",
    "\n",
    "person = {\"name\": \"John\", \"age\": 30, \"city\": \"New York\"}\n",
    "for key in person:\n",
    "    print(key, person[key])"
   ]
  },
  {
   "cell_type": "code",
   "execution_count": 8,
   "metadata": {},
   "outputs": [
    {
     "name": "stdout",
     "output_type": "stream",
     "text": [
      "merah apple\n",
      "merah banana\n",
      "merah cherry\n",
      "besarrr apple\n",
      "besarrr banana\n",
      "besarrr cherry\n",
      "tastyyyyy apple\n",
      "tastyyyyy banana\n",
      "tastyyyyy cherry\n"
     ]
    }
   ],
   "source": [
    "adj = [\"merah\", \"besarrr\", \"tastyyyyy\"]\n",
    "fruits = [\"apple\", \"banana\", \"cherry\"]\n",
    "\n",
    "for x in adj:\n",
    "    for y in fruits:\n",
    "        print(x, y)"
   ]
  },
  {
   "cell_type": "code",
   "execution_count": 9,
   "metadata": {},
   "outputs": [
    {
     "name": "stdout",
     "output_type": "stream",
     "text": [
      "merah apple\n",
      "besar banana\n",
      "tastyyyy cherry\n"
     ]
    }
   ],
   "source": [
    "adj = {\"merah\" : \"apple\", \"besar\" : \"banana\", \"tastyyyy\" : \"cherry\"}\n",
    "for key in adj:\n",
    "    print(key, adj[key])"
   ]
  },
  {
   "cell_type": "code",
   "execution_count": 10,
   "metadata": {},
   "outputs": [
    {
     "ename": "ValueError",
     "evalue": "invalid literal for int() with base 10: ''",
     "output_type": "error",
     "traceback": [
      "\u001b[1;31m---------------------------------------------------------------------------\u001b[0m",
      "\u001b[1;31mValueError\u001b[0m                                Traceback (most recent call last)",
      "Cell \u001b[1;32mIn[10], line 2\u001b[0m\n\u001b[0;32m      1\u001b[0m \u001b[38;5;66;03m# a = 20\u001b[39;00m\n\u001b[1;32m----> 2\u001b[0m a \u001b[38;5;241m=\u001b[39m \u001b[38;5;28;43mint\u001b[39;49m\u001b[43m(\u001b[49m\u001b[38;5;28;43minput\u001b[39;49m\u001b[43m(\u001b[49m\u001b[38;5;124;43m\"\u001b[39;49m\u001b[38;5;124;43mMasukkan angka: \u001b[39;49m\u001b[38;5;124;43m\"\u001b[39;49m\u001b[43m)\u001b[49m\u001b[43m)\u001b[49m \u001b[38;5;66;03m# input dari user\u001b[39;00m\n\u001b[0;32m      3\u001b[0m \u001b[38;5;28;01mif\u001b[39;00m a\u001b[38;5;241m<\u001b[39m\u001b[38;5;241m10\u001b[39m:\n\u001b[0;32m      4\u001b[0m     \u001b[38;5;28mprint\u001b[39m(\u001b[38;5;124m\"\u001b[39m\u001b[38;5;124ma kurang dari 10\u001b[39m\u001b[38;5;124m\"\u001b[39m)\n",
      "\u001b[1;31mValueError\u001b[0m: invalid literal for int() with base 10: ''"
     ]
    }
   ],
   "source": [
    "# a = 20\n",
    "a = int(input(\"Masukkan angka: \")) # input dari user\n",
    "if a<10:\n",
    "    print(\"a kurang dari 10\")\n",
    "elif a<20:\n",
    "    print(\"a antara 10 sampai 20\")\n",
    "else:\n",
    "    print(\"a lebih dari 20\")"
   ]
  },
  {
   "cell_type": "code",
   "execution_count": null,
   "metadata": {},
   "outputs": [
    {
     "data": {
      "text/plain": [
       "5"
      ]
     },
     "execution_count": 35,
     "metadata": {},
     "output_type": "execute_result"
    }
   ],
   "source": [
    "a = ['python', 'scipy', 3.6, 5]\n",
    "a.pop(-1)\n"
   ]
  },
  {
   "cell_type": "code",
   "execution_count": null,
   "metadata": {},
   "outputs": [
    {
     "name": "stdout",
     "output_type": "stream",
     "text": [
      "(1, 2, 3, 4)\n"
     ]
    }
   ],
   "source": [
    "a = (1,2,3,4)\n",
    "print(a)\n",
    "b = (3,)\n",
    "c = ((1,2),(3,4))"
   ]
  },
  {
   "cell_type": "code",
   "execution_count": null,
   "metadata": {},
   "outputs": [
    {
     "name": "stdout",
     "output_type": "stream",
     "text": [
      "{1, 2, 3, 4, 5, 6}\n",
      "{3, 4}\n"
     ]
    }
   ],
   "source": [
    "set1 = {1,2,3,4}\n",
    "set2 = {3,4,5,6}\n",
    "print(set1.union(set2)) # hasil 1,2,3,4,5\n",
    "print(set1.intersection(set2)) # hasil 3,4"
   ]
  },
  {
   "cell_type": "code",
   "execution_count": null,
   "metadata": {},
   "outputs": [
    {
     "name": "stdout",
     "output_type": "stream",
     "text": [
      "Union: {1, 2, 3, 4, 5, 6}\n",
      "Intersection: {3, 4}\n",
      "Intersection over Union (IoU): 0.3333333333333333\n"
     ]
    }
   ],
   "source": [
    "set1 = {1, 2, 3, 4}\n",
    "set2 = {3, 4, 5, 6}\n",
    "\n",
    "# Menghitung union\n",
    "union_set = set1.union(set2)\n",
    "print(\"Union:\", union_set)  # Output: {1, 2, 3, 4, 5, 6}\n",
    "\n",
    "# Menghitung intersection\n",
    "intersection_set = set1.intersection(set2)\n",
    "print(\"Intersection:\", intersection_set)  # Output: {3, 4}\n",
    "\n",
    "# Menghitung Intersection over Union (IoU)\n",
    "iou = len(intersection_set) / len(union_set)\n",
    "print(\"Intersection over Union (IoU):\", iou)  # Output: 0.3333333333333333"
   ]
  },
  {
   "cell_type": "code",
   "execution_count": 14,
   "metadata": {},
   "outputs": [
    {
     "name": "stdout",
     "output_type": "stream",
     "text": [
      "{1, 2, 3, 4, 5, 6}\n"
     ]
    }
   ],
   "source": [
    "# hapus duplikat dari list\n",
    "data = [1,2,3,4,5,6]\n",
    "unique_data = set(data)\n",
    "print(unique_data)"
   ]
  },
  {
   "cell_type": "code",
   "execution_count": null,
   "metadata": {},
   "outputs": [],
   "source": [
    "# cek keanggotaan\n",
    "allowed_users = {\"Admin\", \"Editor\", \"Viewer\"}\n",
    "user = \"Editor\"\n",
    "if user in allowed_users:\n",
    "    print(\"Access granted\")"
   ]
  },
  {
   "cell_type": "code",
   "execution_count": 27,
   "metadata": {},
   "outputs": [
    {
     "name": "stdout",
     "output_type": "stream",
     "text": [
      "hasil search\n",
      "John Cena lulus dengan nilai A\n",
      "Boody Cerry lulus dengan nilai A\n"
     ]
    }
   ],
   "source": [
    "students = [\n",
    "    {\"name\": \"John Cena\", \"grade\": \"A\"},\n",
    "    {\"name\": \"Boody Cerry\", \"grade\": \"A\"},\n",
    "    {\"name\": \"Dany Randi\", \"grade\": \"C\"}\n",
    "]\n",
    "\n",
    "print(\"hasil search\")\n",
    "for student in students:\n",
    "    if student[\"grade\"] == \"A\":\n",
    "        print(student[\"name\"], \"lulus dengan nilai A\")"
   ]
  },
  {
   "cell_type": "code",
   "execution_count": 29,
   "metadata": {},
   "outputs": [
    {
     "name": "stdout",
     "output_type": "stream",
     "text": [
      "{'apel': 2, 'mangga': 3, 'jeruk': 1}\n"
     ]
    }
   ],
   "source": [
    "buah = [\"apel\", \"mangga\", \"jeruk\", \"apel\", \"mangga\", \"mangga\"]\n",
    "frequency = {}\n",
    "for item in buah:\n",
    "    if item in frequency:\n",
    "        frequency[item] += 1\n",
    "    else:\n",
    "        frequency[item] = 1\n",
    "print(frequency)"
   ]
  },
  {
   "cell_type": "code",
   "execution_count": 31,
   "metadata": {},
   "outputs": [
    {
     "name": "stdout",
     "output_type": "stream",
     "text": [
      "Laptop tersedia: 10 unit.\n",
      "Barang tidak ditemukan.\n"
     ]
    }
   ],
   "source": [
    "# pengggunaan tuple, set, dan dictionary\n",
    "# data inventaris: (id, nama, stok)\n",
    "inventory = {\n",
    "    1: (\"Laptop\", 10),\n",
    "    2: (\"Mouse\", 50),\n",
    "    3: (\"Keyboard\", 30)\n",
    "}\n",
    "\n",
    "# set untuk menyimpan ID barang yang habis\n",
    "out_of_stock = set()\n",
    "\n",
    "# fungsi untuk mengecek stok\n",
    "def check_stock(item_id):\n",
    "    if item_id in inventory:\n",
    "        name, stock = inventory[item_id]\n",
    "        if stock == 0:\n",
    "            out_of_stock.add(item_id)\n",
    "            return f\"{name} habis.\"\n",
    "        return f\"{name} tersedia: {stock} unit.\"\n",
    "    return \"Barang tidak ditemukan.\"\n",
    "\n",
    "# contoh penggunaan\n",
    "print(check_stock(1))\n",
    "print(check_stock(4))"
   ]
  }
 ],
 "metadata": {
  "kernelspec": {
   "display_name": "DIP",
   "language": "python",
   "name": "python3"
  },
  "language_info": {
   "codemirror_mode": {
    "name": "ipython",
    "version": 3
   },
   "file_extension": ".py",
   "mimetype": "text/x-python",
   "name": "python",
   "nbconvert_exporter": "python",
   "pygments_lexer": "ipython3",
   "version": "3.10.13"
  }
 },
 "nbformat": 4,
 "nbformat_minor": 2
}
