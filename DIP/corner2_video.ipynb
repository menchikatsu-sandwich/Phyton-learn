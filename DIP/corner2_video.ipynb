{
 "cells": [
  {
   "cell_type": "code",
   "execution_count": 1,
   "id": "1a119077",
   "metadata": {},
   "outputs": [
    {
     "name": "stderr",
     "output_type": "stream",
     "text": [
      "C:\\Users\\santo\\AppData\\Local\\Temp\\ipykernel_23672\\2687096717.py:33: DeprecationWarning: `np.int0` is a deprecated alias for `np.intp`.  (Deprecated NumPy 1.24)\n",
      "  corners = np.int0(corners)\n"
     ]
    }
   ],
   "source": [
    "import cv2\n",
    "import numpy as np\n",
    "\n",
    "# Set-up video capture (0 = default webcam)\n",
    "cap = cv2.VideoCapture(0)\n",
    "\n",
    "# Check if the camera is opened successfully\n",
    "if not cap.isOpened():\n",
    "    print(\"Error: Could not open video capture.\")\n",
    "    exit()\n",
    "\n",
    "# Shi-Tomasi corner detection parameters\n",
    "max_corners = 0       # Maksimum jumlah sudut yang dideteksi (0 = semua)\n",
    "quality_level = 0.01    # Kualitas minimum sudut\n",
    "min_distance = 10       # Jarak minimum antar sudut\n",
    "\n",
    "while True:\n",
    "    ret, frame = cap.read()\n",
    "    if not ret:\n",
    "        cap.set(cv2.CAP_PROP_POS_FRAMES, 0)\n",
    "        continue\n",
    "\n",
    "    # Convert to grayscale\n",
    "    gray = cv2.cvtColor(frame, cv2.COLOR_BGR2GRAY)\n",
    "\n",
    "    # Apply Shi-Tomasi corner detection\n",
    "    corners = cv2.goodFeaturesToTrack(gray, max_corners, quality_level, min_distance)\n",
    "\n",
    "    # Copy for black background\n",
    "    black_frame = np.zeros_like(frame)\n",
    "\n",
    "    if corners is not None:\n",
    "        corners = np.int0(corners)\n",
    "        for corner in corners:\n",
    "            x, y = corner.ravel()\n",
    "            cv2.circle(frame, (x, y), 3, (255, 0, 255), -1)         # On original frame\n",
    "            cv2.circle(black_frame, (x, y), 3, (255, 0, 255), -1)   # On black background\n",
    "\n",
    "    # Show the frames\n",
    "    cv2.imshow('Shi-Tomasi Corner Detection', frame)\n",
    "    cv2.imshow('Corners on Black Background', black_frame)\n",
    "\n",
    "    # Exit if 'q' is pressed\n",
    "    if cv2.waitKey(1) & 0xFF == ord('q'):\n",
    "        break\n",
    "\n",
    "# Release camera and close window\n",
    "cap.release()\n",
    "cv2.destroyAllWindows()"
   ]
  }
 ],
 "metadata": {
  "kernelspec": {
   "display_name": "DIP",
   "language": "python",
   "name": "python3"
  },
  "language_info": {
   "codemirror_mode": {
    "name": "ipython",
    "version": 3
   },
   "file_extension": ".py",
   "mimetype": "text/x-python",
   "name": "python",
   "nbconvert_exporter": "python",
   "pygments_lexer": "ipython3",
   "version": "3.10.13"
  }
 },
 "nbformat": 4,
 "nbformat_minor": 5
}
